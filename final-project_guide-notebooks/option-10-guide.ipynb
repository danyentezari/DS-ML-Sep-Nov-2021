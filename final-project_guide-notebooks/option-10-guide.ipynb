{
  "cells": [
    {
      "cell_type": "markdown",
      "metadata": {
        "id": "wsFy9Kao9CfD"
      },
      "source": [
        "### Option 10 - Image Recognition with Trained Model\n",
        "For this project, import a pre-trained image recognition ML model <br/>\n",
        "https://keras.io/api/applications/"
      ]
    },
    {
      "cell_type": "code",
      "execution_count": null,
      "metadata": {
        "id": "5DAcjl0_8kWv"
      },
      "outputs": [],
      "source": [
        "# Import the libraries\n",
        "import numpy as np\n",
        "\n",
        "# Import an object with methods to process image data\n",
        "from keras.preprocessing import image\n",
        "\n",
        "# Import the pre-trained model\n",
        "from keras.applications import resnet50"
      ]
    },
    {
      "cell_type": "code",
      "execution_count": null,
      "metadata": {
        "id": "vQqdIO229q5r"
      },
      "outputs": [],
      "source": [
        "# Instantiate the pre-trained model\n",
        "modelRN50 = resnet50.ResNet50()"
      ]
    },
    {
      "cell_type": "code",
      "execution_count": null,
      "metadata": {
        "id": "ToCGiHgM967c"
      },
      "outputs": [],
      "source": [
        "# Preprocess the images"
      ]
    },
    {
      "cell_type": "code",
      "execution_count": null,
      "metadata": {
        "id": "9WzH7ym4_hmY"
      },
      "outputs": [],
      "source": [
        "# Convert to NumPy array"
      ]
    },
    {
      "cell_type": "code",
      "execution_count": null,
      "metadata": {
        "id": "IdmubLG0A9QR"
      },
      "outputs": [],
      "source": [
        "# Predict the contents of the image"
      ]
    },
    {
      "cell_type": "code",
      "execution_count": null,
      "metadata": {
        "colab": {
          "base_uri": "https://localhost:8080/"
        },
        "id": "oQMhEbI2B4MA",
        "outputId": "cc67e3ba-f992-461b-974a-3dc978dbdfbd"
      },
      "outputs": [],
      "source": [
        "# Import images to classifiy"
      ]
    }
  ],
  "metadata": {
    "colab": {
      "collapsed_sections": [],
      "name": "image-recognition_resnet50.ipynb",
      "provenance": []
    },
    "kernelspec": {
      "display_name": "Python 3",
      "name": "python3"
    },
    "language_info": {
      "name": "python"
    }
  },
  "nbformat": 4,
  "nbformat_minor": 0
}
