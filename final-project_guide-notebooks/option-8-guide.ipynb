{
  "cells": [
    {
      "cell_type": "markdown",
      "metadata": {
        "id": "3WLtzXUTC5LN"
      },
      "source": [
        "### Option 8 - Sentiment Analysis for Ecommerce\n",
        "\n",
        "Look at this document for reference,<br/>\n",
        "https://colab.research.google.com/drive/1g6ZtYOOhGUj1WsiPpeaVPp5T7VFw234e?usp=sharing"
      ]
    },
    {
      "cell_type": "code",
      "execution_count": 2,
      "metadata": {
        "id": "ny7TFp0sC5LV"
      },
      "outputs": [],
      "source": [
        "# (1) Import libraries\n",
        "import pandas as pd"
      ]
    },
    {
      "cell_type": "code",
      "execution_count": 3,
      "metadata": {
        "colab": {
          "base_uri": "https://localhost:8080/"
        },
        "id": "TBaD7dvAC5LW",
        "outputId": "90fcf1b8-23d1-4c8a-afc6-4357671b8f58"
      },
      "outputs": [
        {
          "name": "stdout",
          "output_type": "stream",
          "text": [
            "  % Total    % Received % Xferd  Average Speed   Time    Time     Time  Current\n",
            "                                 Dload  Upload   Total   Spent    Left  Speed\n",
            "100 1625M  100 1625M    0     0  94.8M      0  0:00:17  0:00:17 --:--:-- 95.3M\n"
          ]
        }
      ],
      "source": [
        "# (2) Download product reviews from Amazon Datasets\n",
        "# You can use reviews from Amazon Datasets for a particular product.\n",
        "# Note that the data are quite large so do not run this cell unless you are willing to wait!\n",
        "# For reference, visit:\n",
        "# https://www.tensorflow.org/datasets/catalog/amazon_us_reviews\n",
        "# https://s3.amazonaws.com/amazon-reviews-pds/readme.html\n",
        "!curl -O https://s3.amazonaws.com/amazon-reviews-pds/tsv/amazon_reviews_us_Wireless_v1_00.tsv.gz"
      ]
    },
    {
      "cell_type": "code",
      "execution_count": 4,
      "metadata": {
        "colab": {
          "base_uri": "https://localhost:8080/"
        },
        "id": "EG7i-4E7DR6P",
        "outputId": "147c0b54-5ef9-4711-8757-4e7ab1ce1d44"
      },
      "outputs": [
        {
          "name": "stdout",
          "output_type": "stream",
          "text": [
            "gzip: amazon_reviews_us_Wireless_v1_00.tsv already exists;\tnot overwritten\n"
          ]
        }
      ],
      "source": [
        "!echo \"y\" | gzip -d amazon_reviews_us_Wireless_v1_00.tsv.gz"
      ]
    },
    {
      "cell_type": "code",
      "execution_count": 5,
      "metadata": {
        "colab": {
          "base_uri": "https://localhost:8080/"
        },
        "id": "W7MGo9e-C5LX",
        "outputId": "21923008-f550-4f9e-b5c3-87fed42aebe4"
      },
      "outputs": [
        {
          "name": "stdout",
          "output_type": "stream",
          "text": [
            "amazon_reviews_us_Wireless_v1_00.tsv\t sample_data\n",
            "amazon_reviews_us_Wireless_v1_00.tsv.gz\n"
          ]
        }
      ],
      "source": [
        "# (3.a) Read the contents of the folder \n",
        "!ls"
      ]
    },
    {
      "cell_type": "code",
      "execution_count": 6,
      "metadata": {
        "id": "iPwqyKTuC5LX"
      },
      "outputs": [],
      "source": [
        "# (3.b) Explore data (for example, see what is categorial and numerical)"
      ]
    },
    {
      "cell_type": "code",
      "execution_count": 28,
      "metadata": {
        "id": "lytjIOzXD2Zu"
      },
      "outputs": [],
      "source": [
        "df = pd.read_table('amazon_reviews_us_Wireless_v1_00.tsv', delim_whitespace=False, error_bad_lines=False, nrows=500y.head()"
      ]
    },
    {
      "cell_type": "code",
      "execution_count": 30,
      "metadata": {
        "colab": {
          "base_uri": "https://localhost:8080/"
        },
        "id": "HhEgJ_k4C5LX",
        "outputId": "f27c1149-5a12-4a82-85a0-d5d67302ffb6"
      },
      "outputs": [
        {
          "data": {
            "text/plain": [
              "pandas.core.frame.DataFrame"
            ]
          },
          "execution_count": 30,
          "metadata": {
            "tags": []
          },
          "output_type": "execute_result"
        }
      ],
      "source": [
        "# (4) Choose the label and features"
      ]
    },
    {
      "cell_type": "code",
      "execution_count": 9,
      "metadata": {
        "id": "6bAuUZonC5LX"
      },
      "outputs": [],
      "source": [
        "# (5) Feature engineer for data that is\n",
        "# (a) relevant \n",
        "# (b) unique\n",
        "# (c) correct \n",
        "# (d) not missing\n",
        "\n",
        "# Drop data that is not a,b,c, or d\n",
        "# Use one-hot encoding for nominal\n",
        "# Reduce dimensions of your features"
      ]
    },
    {
      "cell_type": "code",
      "execution_count": 10,
      "metadata": {
        "id": "Dq6UgamkC5LY"
      },
      "outputs": [],
      "source": [
        "# (6) Confirm data is ready with further exploratory analysis"
      ]
    },
    {
      "cell_type": "code",
      "execution_count": 11,
      "metadata": {
        "id": "1hoZ8o-kC5LY"
      },
      "outputs": [],
      "source": [
        "# (7) Training, Testing (and/or Validation) data split \n",
        "\n",
        "# for example, 60/20/20"
      ]
    },
    {
      "cell_type": "code",
      "execution_count": 12,
      "metadata": {
        "id": "Wh3Mpqv0C5LY"
      },
      "outputs": [],
      "source": [
        "# (7.b) If using Deep Learning, building the model\n",
        "\n",
        "# Add Input Layer\n",
        "# Add Hidden Layers\n",
        "# Add Output"
      ]
    },
    {
      "cell_type": "code",
      "execution_count": 13,
      "metadata": {
        "id": "RvmY_kfYC5LZ"
      },
      "outputs": [],
      "source": [
        "# (8) Training the Machine Learning Model (i.e, Fitting the Model)"
      ]
    },
    {
      "cell_type": "code",
      "execution_count": 14,
      "metadata": {
        "id": "EZ01SXbIC5LZ"
      },
      "outputs": [],
      "source": [
        "# (9) Evaluate the model metrics for Training (and/or Validation) data"
      ]
    },
    {
      "cell_type": "code",
      "execution_count": 15,
      "metadata": {
        "id": "wTpOxodBC5LZ"
      },
      "outputs": [],
      "source": [
        "# (10) Evaluate the model metris for Testing data\n",
        "\n",
        "\n",
        "# If metrics are poor, optimize either (a) the data, (b) the hyperpamaters"
      ]
    },
    {
      "cell_type": "code",
      "execution_count": 16,
      "metadata": {
        "id": "0kitVPuJC5LZ"
      },
      "outputs": [],
      "source": [
        "# (11) Use the model for prediction"
      ]
    },
    {
      "cell_type": "code",
      "execution_count": 17,
      "metadata": {
        "id": "9WEaNzAVC5La"
      },
      "outputs": [],
      "source": [
        "# (12) Write final predicted data  (e.g, to CSV or JSON, etc.)"
      ]
    }
  ],
  "metadata": {
    "colab": {
      "name": "option-b-guide.ipynb",
      "provenance": []
    },
    "kernelspec": {
      "display_name": "Python 3.7.4 64-bit",
      "metadata": {
        "interpreter": {
          "hash": "aee8b7b246df8f9039afb4144a1f6fd8d2ca17a180786b69acc140d282b71a49"
        }
      },
      "name": "python3"
    },
    "language_info": {
      "codemirror_mode": {
        "name": "ipython",
        "version": 3
      },
      "file_extension": ".py",
      "mimetype": "text/x-python",
      "name": "python",
      "nbconvert_exporter": "python",
      "pygments_lexer": "ipython3",
      "version": "3.7.4-final"
    },
    "orig_nbformat": 2
  },
  "nbformat": 4,
  "nbformat_minor": 2
}
