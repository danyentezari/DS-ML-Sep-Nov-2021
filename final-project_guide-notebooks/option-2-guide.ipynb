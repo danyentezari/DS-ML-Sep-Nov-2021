{
  "cells": [
    {
      "cell_type": "markdown",
      "metadata": {
        "id": "3WLtzXUTC5LN"
      },
      "source": [
        "### Option 2 - Sentiment Analysis for Squid Games\n",
        "\n",
        "Look at this document for reference,<br/>\n",
        "https://www.kaggle.com/deepcontractor/squid-game-netflix-twitter-data\n"
      ]
    },
    {
      "cell_type": "code",
      "execution_count": 2,
      "metadata": {
        "id": "ny7TFp0sC5LV"
      },
      "outputs": [],
      "source": [
        "# (1) Import libraries"
      ]
    },
    {
      "cell_type": "code",
      "execution_count": null,
      "metadata": {
        "colab": {
          "base_uri": "https://localhost:8080/"
        },
        "id": "TBaD7dvAC5LW",
        "outputId": "90fcf1b8-23d1-4c8a-afc6-4357671b8f58"
      },
      "outputs": [],
      "source": [
        "# (2) Import the CSV file"
      ]
    },
    {
      "cell_type": "code",
      "execution_count": 6,
      "metadata": {
        "id": "iPwqyKTuC5LX"
      },
      "outputs": [],
      "source": [
        "# (3) Explore data (for example, see what is categorial and numerical)"
      ]
    },
    {
      "cell_type": "code",
      "execution_count": null,
      "metadata": {
        "colab": {
          "base_uri": "https://localhost:8080/"
        },
        "id": "HhEgJ_k4C5LX",
        "outputId": "f27c1149-5a12-4a82-85a0-d5d67302ffb6"
      },
      "outputs": [],
      "source": [
        "# (4) Choose the label and features"
      ]
    },
    {
      "cell_type": "code",
      "execution_count": 9,
      "metadata": {
        "id": "6bAuUZonC5LX"
      },
      "outputs": [],
      "source": [
        "# (5) Feature engineer for data that is\n",
        "# (a) relevant \n",
        "# (b) unique\n",
        "# (c) correct \n",
        "# (d) not missing\n",
        "\n",
        "# Drop data that is not a,b,c, or d"
      ]
    },
    {
      "cell_type": "code",
      "execution_count": 10,
      "metadata": {
        "id": "Dq6UgamkC5LY"
      },
      "outputs": [],
      "source": [
        "# (6) Confirm data is ready with further exploratory analysis"
      ]
    },
    {
      "cell_type": "code",
      "execution_count": 11,
      "metadata": {
        "id": "1hoZ8o-kC5LY"
      },
      "outputs": [],
      "source": [
        "# (7) Training, Testing (and/or Validation) data split \n",
        "\n",
        "# for example, 60/20/20"
      ]
    },
    {
      "cell_type": "code",
      "execution_count": 12,
      "metadata": {
        "id": "Wh3Mpqv0C5LY"
      },
      "outputs": [],
      "source": [
        "# (7.b) If using Deep Learning, building the model\n",
        "\n",
        "# Add Input Layer\n",
        "# Add Hidden Layers\n",
        "# Add Output"
      ]
    },
    {
      "cell_type": "code",
      "execution_count": 13,
      "metadata": {
        "id": "RvmY_kfYC5LZ"
      },
      "outputs": [],
      "source": [
        "# (8) Training the Machine Learning Model (i.e, Fitting the Model)"
      ]
    },
    {
      "cell_type": "code",
      "execution_count": 14,
      "metadata": {
        "id": "EZ01SXbIC5LZ"
      },
      "outputs": [],
      "source": [
        "# (9) Evaluate the model metrics for Training (and/or Validation) data"
      ]
    },
    {
      "cell_type": "code",
      "execution_count": 15,
      "metadata": {
        "id": "wTpOxodBC5LZ"
      },
      "outputs": [],
      "source": [
        "# (10) Evaluate the model metris for Testing data\n",
        "\n",
        "\n",
        "# If metrics are poor, optimize either (a) the data, (b) the hyperpamaters"
      ]
    },
    {
      "cell_type": "code",
      "execution_count": 16,
      "metadata": {
        "id": "0kitVPuJC5LZ"
      },
      "outputs": [],
      "source": [
        "# (11) Use the model for prediction"
      ]
    },
    {
      "cell_type": "code",
      "execution_count": 17,
      "metadata": {
        "id": "9WEaNzAVC5La"
      },
      "outputs": [],
      "source": [
        "# (12) Write final predicted data  (e.g, to CSV or JSON, etc.)"
      ]
    }
  ],
  "metadata": {
    "colab": {
      "name": "option-b-guide.ipynb",
      "provenance": []
    },
    "kernelspec": {
      "display_name": "Python 3.7.4 64-bit",
      "metadata": {
        "interpreter": {
          "hash": "aee8b7b246df8f9039afb4144a1f6fd8d2ca17a180786b69acc140d282b71a49"
        }
      },
      "name": "python3"
    },
    "language_info": {
      "codemirror_mode": {
        "name": "ipython",
        "version": 3
      },
      "file_extension": ".py",
      "mimetype": "text/x-python",
      "name": "python",
      "nbconvert_exporter": "python",
      "pygments_lexer": "ipython3",
      "version": "3.7.4-final"
    },
    "orig_nbformat": 2
  },
  "nbformat": 4,
  "nbformat_minor": 2
}
