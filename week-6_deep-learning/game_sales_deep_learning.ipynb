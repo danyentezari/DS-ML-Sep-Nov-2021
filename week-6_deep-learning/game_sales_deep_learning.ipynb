{
  "nbformat": 4,
  "nbformat_minor": 0,
  "metadata": {
    "colab": {
      "name": "game-sales_deep-learning.ipynb",
      "provenance": []
    },
    "kernelspec": {
      "name": "python3",
      "display_name": "Python 3"
    },
    "language_info": {
      "name": "python"
    }
  },
  "cells": [
    {
      "cell_type": "markdown",
      "metadata": {
        "id": "_kJw-7hag-WB"
      },
      "source": [
        "# Deep Learning for Predicting Game Sales"
      ]
    },
    {
      "cell_type": "markdown",
      "metadata": {
        "id": "8uzDF8SOhe5m"
      },
      "source": [
        "### Import Data and Libraries"
      ]
    },
    {
      "cell_type": "code",
      "metadata": {
        "id": "ln72uACNg4FX"
      },
      "source": [
        "import pandas as pd\n",
        "\n",
        "# Sequential will be used to create the three\n",
        "# layers of neural networks: \n",
        "# (1) Input Layer, (2) Hiddens Layers, and (3) Output Layer\n",
        "from keras.models import Sequential\n",
        "\n",
        "# Use '*' to import all three types of layers\n",
        "from keras.layers import *"
      ],
      "execution_count": 1,
      "outputs": []
    },
    {
      "cell_type": "code",
      "metadata": {
        "colab": {
          "base_uri": "https://localhost:8080/",
          "height": 226
        },
        "id": "fHZyzIHmjFRu",
        "outputId": "0eed6bab-a06c-49e7-f5b8-217ef8b9cae8"
      },
      "source": [
        "trainDf = pd.read_csv('./sales_data_train_scaled.csv')\n",
        "trainDf.head()"
      ],
      "execution_count": 2,
      "outputs": [
        {
          "output_type": "execute_result",
          "data": {
            "text/html": [
              "<div>\n",
              "<style scoped>\n",
              "    .dataframe tbody tr th:only-of-type {\n",
              "        vertical-align: middle;\n",
              "    }\n",
              "\n",
              "    .dataframe tbody tr th {\n",
              "        vertical-align: top;\n",
              "    }\n",
              "\n",
              "    .dataframe thead th {\n",
              "        text-align: right;\n",
              "    }\n",
              "</style>\n",
              "<table border=\"1\" class=\"dataframe\">\n",
              "  <thead>\n",
              "    <tr style=\"text-align: right;\">\n",
              "      <th></th>\n",
              "      <th>critic_rating</th>\n",
              "      <th>is_action</th>\n",
              "      <th>is_exclusive_to_us</th>\n",
              "      <th>is_portable</th>\n",
              "      <th>is_role_playing</th>\n",
              "      <th>is_sequel</th>\n",
              "      <th>is_sports</th>\n",
              "      <th>suitable_for_kids</th>\n",
              "      <th>total_earnings</th>\n",
              "      <th>unit_price</th>\n",
              "    </tr>\n",
              "  </thead>\n",
              "  <tbody>\n",
              "    <tr>\n",
              "      <th>0</th>\n",
              "      <td>0.500000</td>\n",
              "      <td>1.0</td>\n",
              "      <td>0.0</td>\n",
              "      <td>1.0</td>\n",
              "      <td>0.0</td>\n",
              "      <td>1.0</td>\n",
              "      <td>0.0</td>\n",
              "      <td>0.0</td>\n",
              "      <td>0.374714</td>\n",
              "      <td>1.0</td>\n",
              "    </tr>\n",
              "    <tr>\n",
              "      <th>1</th>\n",
              "      <td>0.833333</td>\n",
              "      <td>0.0</td>\n",
              "      <td>0.0</td>\n",
              "      <td>0.0</td>\n",
              "      <td>0.0</td>\n",
              "      <td>1.0</td>\n",
              "      <td>1.0</td>\n",
              "      <td>0.0</td>\n",
              "      <td>0.192425</td>\n",
              "      <td>0.5</td>\n",
              "    </tr>\n",
              "    <tr>\n",
              "      <th>2</th>\n",
              "      <td>0.333333</td>\n",
              "      <td>0.0</td>\n",
              "      <td>0.0</td>\n",
              "      <td>0.0</td>\n",
              "      <td>0.0</td>\n",
              "      <td>1.0</td>\n",
              "      <td>1.0</td>\n",
              "      <td>0.0</td>\n",
              "      <td>0.114852</td>\n",
              "      <td>0.5</td>\n",
              "    </tr>\n",
              "    <tr>\n",
              "      <th>3</th>\n",
              "      <td>0.833333</td>\n",
              "      <td>1.0</td>\n",
              "      <td>0.0</td>\n",
              "      <td>0.0</td>\n",
              "      <td>0.0</td>\n",
              "      <td>0.0</td>\n",
              "      <td>0.0</td>\n",
              "      <td>1.0</td>\n",
              "      <td>0.142452</td>\n",
              "      <td>0.0</td>\n",
              "    </tr>\n",
              "    <tr>\n",
              "      <th>4</th>\n",
              "      <td>0.666667</td>\n",
              "      <td>1.0</td>\n",
              "      <td>0.0</td>\n",
              "      <td>1.0</td>\n",
              "      <td>0.0</td>\n",
              "      <td>1.0</td>\n",
              "      <td>0.0</td>\n",
              "      <td>1.0</td>\n",
              "      <td>0.480682</td>\n",
              "      <td>1.0</td>\n",
              "    </tr>\n",
              "  </tbody>\n",
              "</table>\n",
              "</div>"
            ],
            "text/plain": [
              "   critic_rating  is_action  ...  total_earnings  unit_price\n",
              "0       0.500000        1.0  ...        0.374714         1.0\n",
              "1       0.833333        0.0  ...        0.192425         0.5\n",
              "2       0.333333        0.0  ...        0.114852         0.5\n",
              "3       0.833333        1.0  ...        0.142452         0.0\n",
              "4       0.666667        1.0  ...        0.480682         1.0\n",
              "\n",
              "[5 rows x 10 columns]"
            ]
          },
          "metadata": {},
          "execution_count": 2
        }
      ]
    },
    {
      "cell_type": "code",
      "metadata": {
        "id": "1Sb2kQMZjeqt"
      },
      "source": [
        "# Use .value attribute to extract features as NumPy array\n",
        "features = trainDf.drop('total_earnings', axis=1, inplace=False).values\n",
        "\n",
        "# Note: two square brackets because this is a Pandas DataFrame (i.e, multidimensiona;)\n",
        "label = trainDf[['total_earnings']].values"
      ],
      "execution_count": 3,
      "outputs": []
    },
    {
      "cell_type": "markdown",
      "metadata": {
        "id": "J8pzvcAlk2TG"
      },
      "source": [
        "### Building the Neural Network"
      ]
    },
    {
      "cell_type": "code",
      "metadata": {
        "id": "2ac46y1Hk7pg"
      },
      "source": [
        "# Instantiate the Sequential class\n",
        "modelDL = Sequential()\n",
        "\n",
        "# Add the Input Layer\n",
        "# Note:\n",
        "# Dense: is the neural network architecture type\n",
        "# input_dim: is the number of features\n",
        "# activation: is the activation function ReLU (Rectified Linear Unit)\n",
        "modelDL.add( Dense(50, input_dim=9, activation='relu') )\n",
        "\n",
        "# Add the Hidden Layers\n",
        "modelDL.add( Dense(100, activation='relu') )\n",
        "modelDL.add( Dense(50, activation='relu') )\n",
        "\n",
        "# Add the Output Layer\n",
        "modelDL.add( Dense(1, activation='linear') )\n",
        "\n",
        "# Compile the Deep Learning model\n",
        "modelDL.compile(loss='mean_squared_error', optimizer='adam')"
      ],
      "execution_count": 4,
      "outputs": []
    },
    {
      "cell_type": "markdown",
      "metadata": {
        "id": "35f7PMEklyQK"
      },
      "source": [
        "### Train, Validation, Test Stage"
      ]
    },
    {
      "cell_type": "code",
      "metadata": {
        "id": "GyhFNRyLolMN"
      },
      "source": [
        "# Note:\n",
        "# features is the array of explanatory (random) variables\n",
        "# label is the array of response (random) variable\n",
        "# epochs is the number of times to feed the entire data to the model\n",
        "# shuffle will randomize the features\n",
        "# verbose will control the logging of TensorFlow\n",
        "\n",
        "# Note 2:\n",
        "# Here, .fit() will train and validate the model\n",
        "modelDL.fit( features, label, epochs=50, shuffle=True, verbose=20)"
      ],
      "execution_count": null,
      "outputs": []
    },
    {
      "cell_type": "code",
      "metadata": {
        "id": "CuNWZabmmC9A"
      },
      "source": [
        "# Import the test dataset\n",
        "testDf = pd.read_csv('./sales_data_test_scaled.csv')"
      ],
      "execution_count": 6,
      "outputs": []
    },
    {
      "cell_type": "code",
      "metadata": {
        "id": "59lS6fZ_mQ8c"
      },
      "source": [
        "# Select the features and label for test dataset\n",
        "features_test = testDf.drop('total_earnings', axis=1).values\n",
        "label_test = testDf[['total_earnings']].values"
      ],
      "execution_count": 8,
      "outputs": []
    },
    {
      "cell_type": "code",
      "metadata": {
        "id": "JsJSGu_Ymo2V"
      },
      "source": [
        "# Evaluate the model before prediction. This will allows\n",
        "# us to optimize the hyperparameters if necessary.\n",
        "# \n",
        "# Note:\n",
        "# the range for MSE is [0,+infinity)\n",
        "metric_mse = modelDL.evaluate( features_test, label_test, verbose=0 )"
      ],
      "execution_count": 10,
      "outputs": []
    },
    {
      "cell_type": "code",
      "metadata": {
        "colab": {
          "base_uri": "https://localhost:8080/"
        },
        "id": "KpjIHODInyAX",
        "outputId": "22030ca7-2118-4800-ac11-8749a84a8a70"
      },
      "source": [
        "# Print the MSE after evaluation\n",
        "print( \"The MSE (Mean Squared Error): {}\".format(metric_mse) )"
      ],
      "execution_count": 11,
      "outputs": [
        {
          "output_type": "stream",
          "name": "stdout",
          "text": [
            "The MSE (Mean Squared Error): 0.0013003492495045066\n"
          ]
        }
      ]
    },
    {
      "cell_type": "code",
      "metadata": {
        "colab": {
          "base_uri": "https://localhost:8080/"
        },
        "id": "50lrOJ9fobc4",
        "outputId": "178e10de-6bd2-4c9e-d3f5-0a66b2e3b682"
      },
      "source": [
        "# Convert from scientific notation to float\n",
        "print( '%f' % metric_mse)"
      ],
      "execution_count": 12,
      "outputs": [
        {
          "output_type": "stream",
          "name": "stdout",
          "text": [
            "0.001300\n"
          ]
        }
      ]
    },
    {
      "cell_type": "code",
      "metadata": {
        "id": "B9X1kDjeq_A9"
      },
      "source": [
        ""
      ],
      "execution_count": null,
      "outputs": []
    },
    {
      "cell_type": "markdown",
      "metadata": {
        "id": "lQPOUXmPqyVU"
      },
      "source": [
        "### Predicting Total Earning for A Sample Product"
      ]
    }
  ]
}