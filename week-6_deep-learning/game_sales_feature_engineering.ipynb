{
  "nbformat": 4,
  "nbformat_minor": 0,
  "metadata": {
    "colab": {
      "name": "game-sales_feature-engineering.ipynb",
      "provenance": [],
      "collapsed_sections": []
    },
    "kernelspec": {
      "name": "python3",
      "display_name": "Python 3"
    },
    "language_info": {
      "name": "python"
    }
  },
  "cells": [
    {
      "cell_type": "markdown",
      "metadata": {
        "id": "YTBQ7YvgSJCW"
      },
      "source": [
        "# Feature Engineering for Game Sales Data"
      ]
    },
    {
      "cell_type": "markdown",
      "metadata": {
        "id": "I_3pwdS8S6vQ"
      },
      "source": [
        "### Import Data and Libraries"
      ]
    },
    {
      "cell_type": "code",
      "metadata": {
        "id": "Xa8ckjxSS-pg"
      },
      "source": [
        "import pandas as pd\n",
        "\n",
        "# MinMaxScaler will convert a sequence of number and\n",
        "# scale to a range between 0 and 1. For example, if the\n",
        "# smallest and biggest numbers in a dataset are 20000 and 100000, respectively,\n",
        "# MinMaxScaler will convert these to 0 and 1. \n",
        "from sklearn.preprocessing import MinMaxScaler"
      ],
      "execution_count": 5,
      "outputs": []
    },
    {
      "cell_type": "code",
      "metadata": {
        "id": "e2VV8pboT5ED"
      },
      "source": [
        "trainDf = pd.read_csv('./sales_data_train.csv')\n",
        "testDf = pd.read_csv('./sales_data_test.csv')"
      ],
      "execution_count": 6,
      "outputs": []
    },
    {
      "cell_type": "code",
      "metadata": {
        "colab": {
          "base_uri": "https://localhost:8080/",
          "height": 226
        },
        "id": "fOsZnZ32UFR-",
        "outputId": "2c915969-59c8-4f5e-d771-d3e05d1df476"
      },
      "source": [
        "trainDf.head()"
      ],
      "execution_count": 7,
      "outputs": [
        {
          "output_type": "execute_result",
          "data": {
            "text/html": [
              "<div>\n",
              "<style scoped>\n",
              "    .dataframe tbody tr th:only-of-type {\n",
              "        vertical-align: middle;\n",
              "    }\n",
              "\n",
              "    .dataframe tbody tr th {\n",
              "        vertical-align: top;\n",
              "    }\n",
              "\n",
              "    .dataframe thead th {\n",
              "        text-align: right;\n",
              "    }\n",
              "</style>\n",
              "<table border=\"1\" class=\"dataframe\">\n",
              "  <thead>\n",
              "    <tr style=\"text-align: right;\">\n",
              "      <th></th>\n",
              "      <th>critic_rating</th>\n",
              "      <th>is_action</th>\n",
              "      <th>is_exclusive_to_us</th>\n",
              "      <th>is_portable</th>\n",
              "      <th>is_role_playing</th>\n",
              "      <th>is_sequel</th>\n",
              "      <th>is_sports</th>\n",
              "      <th>suitable_for_kids</th>\n",
              "      <th>total_earnings</th>\n",
              "      <th>unit_price</th>\n",
              "    </tr>\n",
              "  </thead>\n",
              "  <tbody>\n",
              "    <tr>\n",
              "      <th>0</th>\n",
              "      <td>3.5</td>\n",
              "      <td>1</td>\n",
              "      <td>0</td>\n",
              "      <td>1</td>\n",
              "      <td>0</td>\n",
              "      <td>1</td>\n",
              "      <td>0</td>\n",
              "      <td>0</td>\n",
              "      <td>132717</td>\n",
              "      <td>59.99</td>\n",
              "    </tr>\n",
              "    <tr>\n",
              "      <th>1</th>\n",
              "      <td>4.5</td>\n",
              "      <td>0</td>\n",
              "      <td>0</td>\n",
              "      <td>0</td>\n",
              "      <td>0</td>\n",
              "      <td>1</td>\n",
              "      <td>1</td>\n",
              "      <td>0</td>\n",
              "      <td>83407</td>\n",
              "      <td>49.99</td>\n",
              "    </tr>\n",
              "    <tr>\n",
              "      <th>2</th>\n",
              "      <td>3.0</td>\n",
              "      <td>0</td>\n",
              "      <td>0</td>\n",
              "      <td>0</td>\n",
              "      <td>0</td>\n",
              "      <td>1</td>\n",
              "      <td>1</td>\n",
              "      <td>0</td>\n",
              "      <td>62423</td>\n",
              "      <td>49.99</td>\n",
              "    </tr>\n",
              "    <tr>\n",
              "      <th>3</th>\n",
              "      <td>4.5</td>\n",
              "      <td>1</td>\n",
              "      <td>0</td>\n",
              "      <td>0</td>\n",
              "      <td>0</td>\n",
              "      <td>0</td>\n",
              "      <td>0</td>\n",
              "      <td>1</td>\n",
              "      <td>69889</td>\n",
              "      <td>39.99</td>\n",
              "    </tr>\n",
              "    <tr>\n",
              "      <th>4</th>\n",
              "      <td>4.0</td>\n",
              "      <td>1</td>\n",
              "      <td>0</td>\n",
              "      <td>1</td>\n",
              "      <td>0</td>\n",
              "      <td>1</td>\n",
              "      <td>0</td>\n",
              "      <td>1</td>\n",
              "      <td>161382</td>\n",
              "      <td>59.99</td>\n",
              "    </tr>\n",
              "  </tbody>\n",
              "</table>\n",
              "</div>"
            ],
            "text/plain": [
              "   critic_rating  is_action  ...  total_earnings  unit_price\n",
              "0            3.5          1  ...          132717       59.99\n",
              "1            4.5          0  ...           83407       49.99\n",
              "2            3.0          0  ...           62423       49.99\n",
              "3            4.5          1  ...           69889       39.99\n",
              "4            4.0          1  ...          161382       59.99\n",
              "\n",
              "[5 rows x 10 columns]"
            ]
          },
          "metadata": {},
          "execution_count": 7
        }
      ]
    },
    {
      "cell_type": "code",
      "metadata": {
        "id": "Ga555kfOVVFR"
      },
      "source": [
        "# Instantiate the scaler\n",
        "scaler = MinMaxScaler(feature_range=(0, 1))"
      ],
      "execution_count": 8,
      "outputs": []
    },
    {
      "cell_type": "code",
      "metadata": {
        "id": "LG6t_qh7Vc9Q"
      },
      "source": [
        "# .fit_transform() will apply (1) feature engineering, (2) training, and (3) validation\n",
        "# in one method.\n",
        "train_scaled = scaler.fit_transform(trainDf)\n",
        "test_scaled = scaler.fit_transform(testDf)"
      ],
      "execution_count": 9,
      "outputs": []
    },
    {
      "cell_type": "code",
      "metadata": {
        "colab": {
          "base_uri": "https://localhost:8080/"
        },
        "id": "gAAqEGoDWB67",
        "outputId": "e4fa9b43-867e-46fa-8eea-afdbb8e3741b"
      },
      "source": [
        "train_scaled"
      ],
      "execution_count": 10,
      "outputs": [
        {
          "output_type": "execute_result",
          "data": {
            "text/plain": [
              "array([[0.5       , 1.        , 0.        , ..., 0.        , 0.37471396,\n",
              "        1.        ],\n",
              "       [0.83333333, 0.        , 0.        , ..., 0.        , 0.19242528,\n",
              "        0.5       ],\n",
              "       [0.33333333, 0.        , 0.        , ..., 0.        , 0.11485185,\n",
              "        0.5       ],\n",
              "       ...,\n",
              "       [0.83333333, 0.        , 1.        , ..., 0.        , 0.61007375,\n",
              "        1.        ],\n",
              "       [0.5       , 1.        , 1.        , ..., 1.        , 0.24626902,\n",
              "        0.        ],\n",
              "       [0.33333333, 1.        , 0.        , ..., 1.        , 0.21633242,\n",
              "        0.5       ]])"
            ]
          },
          "metadata": {},
          "execution_count": 10
        }
      ]
    },
    {
      "cell_type": "code",
      "metadata": {
        "colab": {
          "base_uri": "https://localhost:8080/"
        },
        "id": "Ygwsf_MlX1XT",
        "outputId": "e0d81aaf-006e-4d42-cc6a-97ccd53b0ccd"
      },
      "source": [
        "# Print the numbers that were used to scale the data\n",
        "print(\n",
        "    \"Multiply by {:.10f} and Add {:.10f}\".format( \n",
        "        scaler.scale_[8], \n",
        "        scaler.min_[8] \n",
        "      )\n",
        ")\n",
        "\n",
        "# Multiply by 0.0000042367 and Add -0.1534149886"
      ],
      "execution_count": 11,
      "outputs": [
        {
          "output_type": "stream",
          "name": "stdout",
          "text": [
            "Multiply by 0.0000042367 and Add -0.1534149886\n"
          ]
        }
      ]
    },
    {
      "cell_type": "code",
      "metadata": {
        "id": "9OuewtABZJfl"
      },
      "source": [
        "# Export the scales data for the next notebook\n",
        "trainDf_scaled = pd.DataFrame(train_scaled, columns=trainDf.columns.values)\n",
        "testDf_scaled = pd.DataFrame(test_scaled, columns=testDf.columns.values)\n",
        "\n",
        "# Set index to exclude the row number\n",
        "trainDf_scaled.to_csv('./sales_data_train_scaled.csv', index=False)\n",
        "testDf_scaled.to_csv('./sales_data_test_scaled.csv', index=False)"
      ],
      "execution_count": 13,
      "outputs": []
    }
  ]
}