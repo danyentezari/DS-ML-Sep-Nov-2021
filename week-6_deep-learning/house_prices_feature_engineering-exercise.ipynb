{
  "nbformat": 4,
  "nbformat_minor": 0,
  "metadata": {
    "colab": {
      "name": "house-prices_feature-engineering.ipynb",
      "provenance": []
    },
    "kernelspec": {
      "name": "python3",
      "display_name": "Python 3"
    },
    "language_info": {
      "name": "python"
    }
  },
  "cells": [
    {
      "cell_type": "markdown",
      "metadata": {
        "id": "Fe_LMbt08iQ1"
      },
      "source": [
        "# Feature Engineering for House Prices"
      ]
    },
    {
      "cell_type": "markdown",
      "metadata": {
        "id": "QOgA4VtQ8q1U"
      },
      "source": [
        "### Import Data and Libraries"
      ]
    },
    {
      "cell_type": "code",
      "metadata": {
        "id": "y9lb6twO8Zt-"
      },
      "source": [
        "# import pandas and MinMaxScaler from sklearn"
      ],
      "execution_count": null,
      "outputs": []
    },
    {
      "cell_type": "code",
      "metadata": {
        "id": "OZ1imLUt8wG1"
      },
      "source": [
        "# import the data as a DataFrame"
      ],
      "execution_count": null,
      "outputs": []
    },
    {
      "cell_type": "code",
      "metadata": {
        "id": "p4TZi8wc9nbW"
      },
      "source": [
        "# Preview the scaled data\n",
        "# note: use .info() and .head()"
      ],
      "execution_count": null,
      "outputs": []
    },
    {
      "cell_type": "markdown",
      "metadata": {
        "id": "w9a1vlfn9eDX"
      },
      "source": [
        "### Feature Engineering"
      ]
    },
    {
      "cell_type": "code",
      "metadata": {
        "id": "IT7vgZ5p9rn5"
      },
      "source": [
        ""
      ],
      "execution_count": null,
      "outputs": []
    },
    {
      "cell_type": "code",
      "metadata": {
        "id": "Z_fPntny8ye1"
      },
      "source": [
        "# drop the irrelevant features"
      ],
      "execution_count": null,
      "outputs": []
    },
    {
      "cell_type": "code",
      "metadata": {
        "id": "BmuZ-wkt819s"
      },
      "source": [
        "# apply one-hot encoding\n",
        "# hint: use the pandas .get_dummies() method"
      ],
      "execution_count": null,
      "outputs": []
    },
    {
      "cell_type": "code",
      "metadata": {
        "id": "K9qBFsyN88ld"
      },
      "source": [
        "# Apply the MinMaxScaler to the DataFrame\n",
        "# note: use the scaler"
      ],
      "execution_count": null,
      "outputs": []
    },
    {
      "cell_type": "code",
      "metadata": {
        "id": "xtfmhbLs9Fia"
      },
      "source": [
        "# Print the scaling numbers from the scaler\n",
        "# note: use the index 13"
      ],
      "execution_count": null,
      "outputs": []
    },
    {
      "cell_type": "code",
      "metadata": {
        "id": "EhwvcIHb9OPz"
      },
      "source": [
        "# Convert from NumPy array to Pandas DataFrame"
      ],
      "execution_count": null,
      "outputs": []
    },
    {
      "cell_type": "markdown",
      "metadata": {
        "id": "-SoF_pUb9g8J"
      },
      "source": [
        "### Export the Data for Deep Learning"
      ]
    },
    {
      "cell_type": "code",
      "metadata": {
        "id": "e2836EAS9Yag"
      },
      "source": [
        "# Export the scaled data"
      ],
      "execution_count": null,
      "outputs": []
    }
  ]
}