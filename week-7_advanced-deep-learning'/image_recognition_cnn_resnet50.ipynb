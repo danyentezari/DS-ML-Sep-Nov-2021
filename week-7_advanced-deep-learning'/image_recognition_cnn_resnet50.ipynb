{
  "nbformat": 4,
  "nbformat_minor": 0,
  "metadata": {
    "colab": {
      "name": "image-recognition_cnn-resnet50.ipynb",
      "provenance": []
    },
    "kernelspec": {
      "name": "python3",
      "display_name": "Python 3"
    },
    "language_info": {
      "name": "python"
    }
  },
  "cells": [
    {
      "cell_type": "markdown",
      "metadata": {
        "id": "OPJs86COuRXT"
      },
      "source": [
        "# Image Recognition with ResNet50"
      ]
    },
    {
      "cell_type": "markdown",
      "metadata": {
        "id": "YwBFZp8nuVR2"
      },
      "source": [
        "### Import Data and Libraries"
      ]
    },
    {
      "cell_type": "code",
      "metadata": {
        "colab": {
          "base_uri": "https://localhost:8080/"
        },
        "id": "0fSzOg6FvCDS",
        "outputId": "b4ff4076-fec8-430b-aa69-568ff31a342c"
      },
      "source": [
        "!pip install keras"
      ],
      "execution_count": 39,
      "outputs": [
        {
          "output_type": "stream",
          "name": "stdout",
          "text": [
            "Requirement already satisfied: keras in /usr/local/lib/python3.7/dist-packages (2.7.0)\n"
          ]
        }
      ]
    },
    {
      "cell_type": "code",
      "metadata": {
        "id": "p2ir_MN1ubNg"
      },
      "source": [
        "import numpy as np\n",
        "\n",
        "# image is an object with methods for processing image data\n",
        "from keras.preprocessing import image\n",
        "\n",
        "# Import the pre-trained ResNet50 machine learning model\n",
        "from tensorflow.keras.applications import resnet50"
      ],
      "execution_count": 40,
      "outputs": []
    },
    {
      "cell_type": "code",
      "metadata": {
        "id": "zv5GXNMdvOoU"
      },
      "source": [
        "# Instantiate the model\n",
        "modelResNet50 = resnet50.ResNet50()"
      ],
      "execution_count": 41,
      "outputs": []
    },
    {
      "cell_type": "code",
      "metadata": {
        "id": "0RlHW3zovdSj"
      },
      "source": [
        "theImage = image.load_img('./bird.jpg', target_size=(224,224))"
      ],
      "execution_count": 42,
      "outputs": []
    },
    {
      "cell_type": "markdown",
      "metadata": {
        "id": "S_zfO1KPwVKN"
      },
      "source": [
        "### Image Preprocessing"
      ]
    },
    {
      "cell_type": "code",
      "metadata": {
        "colab": {
          "base_uri": "https://localhost:8080/"
        },
        "id": "C5myf1uIwNdC",
        "outputId": "505167fd-7695-4510-9dc3-09a8548e722b"
      },
      "source": [
        "# Convert from image data to numpy array\n",
        "theImageData = image.img_to_array(theImage)\n",
        "\n",
        "# Pixels will have values ranging from 0 to 255\n",
        "# 0 is black\n",
        "# 255 is white\n",
        "print(theImageData)\n"
      ],
      "execution_count": 43,
      "outputs": [
        {
          "output_type": "stream",
          "name": "stdout",
          "text": [
            "[[[225. 236. 242.]\n",
            "  [225. 236. 242.]\n",
            "  [225. 236. 242.]\n",
            "  ...\n",
            "  [233. 238. 242.]\n",
            "  [233. 238. 242.]\n",
            "  [233. 238. 242.]]\n",
            "\n",
            " [[225. 236. 242.]\n",
            "  [225. 236. 242.]\n",
            "  [225. 236. 242.]\n",
            "  ...\n",
            "  [233. 238. 242.]\n",
            "  [233. 238. 242.]\n",
            "  [233. 238. 242.]]\n",
            "\n",
            " [[225. 236. 242.]\n",
            "  [225. 236. 242.]\n",
            "  [225. 236. 242.]\n",
            "  ...\n",
            "  [233. 238. 242.]\n",
            "  [233. 238. 242.]\n",
            "  [233. 238. 242.]]\n",
            "\n",
            " ...\n",
            "\n",
            " [[237. 238. 240.]\n",
            "  [237. 238. 240.]\n",
            "  [237. 238. 240.]\n",
            "  ...\n",
            "  [ 92. 147.   1.]\n",
            "  [105. 144.  25.]\n",
            "  [111. 129.  55.]]\n",
            "\n",
            " [[237. 238. 240.]\n",
            "  [237. 238. 240.]\n",
            "  [237. 238. 240.]\n",
            "  ...\n",
            "  [103. 145.  19.]\n",
            "  [109. 136.  41.]\n",
            "  [108. 117.  70.]]\n",
            "\n",
            " [[237. 238. 240.]\n",
            "  [237. 238. 240.]\n",
            "  [237. 238. 240.]\n",
            "  ...\n",
            "  [129. 144.  39.]\n",
            "  [120. 130.  57.]\n",
            "  [109. 108.  80.]]]\n"
          ]
        }
      ]
    },
    {
      "cell_type": "code",
      "metadata": {
        "id": "hGR53TkXx9zg"
      },
      "source": [
        "# Exapnd the dimensions of the image data\n",
        "theImageData = np.expand_dims(theImageData, axis=0)"
      ],
      "execution_count": 44,
      "outputs": []
    },
    {
      "cell_type": "markdown",
      "metadata": {
        "id": "mYXxuSy5y95h"
      },
      "source": [
        "### Classify the Image"
      ]
    },
    {
      "cell_type": "code",
      "metadata": {
        "colab": {
          "base_uri": "https://localhost:8080/"
        },
        "id": "zhZ87Un2yVeh",
        "outputId": "9d6e1a5d-6d46-465c-8632-fc3b4cafaeb8"
      },
      "source": [
        "# Predict the classes of the subject of the iamge\n",
        "predictions = modelResNet50.predict(theImageData)"
      ],
      "execution_count": 45,
      "outputs": [
        {
          "output_type": "stream",
          "name": "stdout",
          "text": [
            "WARNING:tensorflow:5 out of the last 5 calls to <function Model.make_predict_function.<locals>.predict_function at 0x7f74a8d84830> triggered tf.function retracing. Tracing is expensive and the excessive number of tracings could be due to (1) creating @tf.function repeatedly in a loop, (2) passing tensors with different shapes, (3) passing Python objects instead of tensors. For (1), please define your @tf.function outside of the loop. For (2), @tf.function has experimental_relax_shapes=True option that relaxes argument shapes that can avoid unnecessary retracing. For (3), please refer to https://www.tensorflow.org/guide/function#controlling_retracing and https://www.tensorflow.org/api_docs/python/tf/function for  more details.\n"
          ]
        }
      ]
    },
    {
      "cell_type": "code",
      "metadata": {
        "id": "ok6ZUal7ymsa"
      },
      "source": [
        "# Retrieve the predicted class and corresponding probabilities\n",
        "# for the image\n",
        "predictedClasses = resnet50.decode_predictions(predictions, top=10)"
      ],
      "execution_count": 46,
      "outputs": []
    },
    {
      "cell_type": "code",
      "metadata": {
        "colab": {
          "base_uri": "https://localhost:8080/"
        },
        "id": "iCZeXKjMy3yR",
        "outputId": "768a6855-d562-4604-f985-fcb24d74486c"
      },
      "source": [
        "# Print the list of classes\n",
        "print(\"This is image is:\")\n",
        "\n",
        "for classID, className, probability in predictedClasses[0]:\n",
        "  print(\"Class is {} with probability {}\".format(className, probability))"
      ],
      "execution_count": 47,
      "outputs": [
        {
          "output_type": "stream",
          "name": "stdout",
          "text": [
            "This is image is:\n",
            "Class is spotlight with probability 0.396220862865448\n",
            "Class is pinwheel with probability 0.20655770599842072\n",
            "Class is sulphur-crested_cockatoo with probability 0.12055265158414841\n",
            "Class is electric_fan with probability 0.041055817157030106\n",
            "Class is hair_slide with probability 0.04105213284492493\n",
            "Class is jay with probability 0.014902664348483086\n",
            "Class is magpie with probability 0.014740721322596073\n",
            "Class is mushroom with probability 0.01265310775488615\n",
            "Class is fountain with probability 0.011951387859880924\n",
            "Class is kite with probability 0.011855204589664936\n"
          ]
        }
      ]
    }
  ]
}