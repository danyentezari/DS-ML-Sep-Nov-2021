{
  "nbformat": 4,
  "nbformat_minor": 0,
  "metadata": {
    "colab": {
      "name": "fraud-detection_tree.ipynb",
      "provenance": []
    },
    "kernelspec": {
      "name": "python3",
      "display_name": "Python 3"
    },
    "language_info": {
      "name": "python"
    }
  },
  "cells": [
    {
      "cell_type": "markdown",
      "metadata": {
        "id": "qtg8DxNdH6lf"
      },
      "source": [
        "# Fraud Detection with Machine Learning\n",
        "This notebook explores a fraud detection problem with financial transactions.\n",
        "\n",
        "**Dictionary**<br/>\n",
        "This is the column definition of the referenced sythentic dataset.\n",
        "<br/><br/>\n",
        "\n",
        "| Column Name | Description |\n",
        "| ----------- | ----------- | \n",
        "| step | maps a unit of time in the real world. In this case 1 step is 1 hour of time. Total steps 744 (30 days simulation).|\n",
        "| type | CASH-IN, CASH-OUT, DEBIT, PAYMENT and TRANSFER. |\n",
        "| amount |  amount of the transaction in local currency. |\n",
        "| nameOrig | customer who started the transaction |\n",
        "| oldbalanceOrg | initial balance before the transaction |\n",
        "| newbalanceOrig | new balance after the transaction |\n",
        "| nameDest | customer who is the recipient of the transaction |\n",
        "| oldbalanceDest | initial balance recipient before the transaction. Note that there is not information for customers that start with M (Merchants). |\n",
        "| newbalanceDest | new balance recipient after the transaction. Note that there is not information for customers that start with M (Merchants). |\n",
        "<br/><br/>\n",
        "\n",
        "**CashIn**\tA Client moves money into the network via a Merchant <br/>\n",
        "**CashOut**\tA Client moves money out of the network via a Merchant <br/>\n",
        "**Debit**\tA Client moves money into a Bank <br/>\n",
        "**Transfer**\tA Client sends money to another Client <br/>\n",
        "**Payment**\tA Client exchanges money for something from a Merchant <br/>\n",
        "<br/>\n",
        "Courtesy of Jamie Hoyzer, DS & ML-Feb Mar 2021"
      ]
    },
    {
      "cell_type": "code",
      "metadata": {
        "id": "QETLAAdjH9fl"
      },
      "source": [
        "# Import libraries\n",
        "import pandas as pd\n",
        "import numpy as np\n",
        "import plotly.express as px\n",
        "import plotly.graph_objs as go\n",
        "from sklearn.model_selection import train_test_split"
      ],
      "execution_count": null,
      "outputs": []
    },
    {
      "cell_type": "code",
      "metadata": {
        "id": "WtSzlayk9WN0"
      },
      "source": [
        "# Importing the machine learning model\n",
        "from sklearn.ensemble import RandomForestClassifier\n",
        "\n",
        "# Import GridSearchCV to find the model with the best parameters\n",
        "from sklearn.model_selection import GridSearchCV\n",
        "\n",
        "# Importing the the functions to measure metrics for the model\n",
        "from sklearn.metrics import accuracy_score, precision_score, recall_score"
      ],
      "execution_count": null,
      "outputs": []
    },
    {
      "cell_type": "code",
      "metadata": {
        "id": "s3pQwvs6IXW9"
      },
      "source": [
        "#accountDf = pd.read_csv('./PS_subset.csv')"
      ],
      "execution_count": null,
      "outputs": []
    },
    {
      "cell_type": "code",
      "metadata": {
        "colab": {
          "base_uri": "https://localhost:8080/"
        },
        "id": "g5HLBTC6X8ZB",
        "outputId": "69f40686-0de7-456a-c7c1-ec6d273b8b59"
      },
      "source": [
        "# (2) Import data file(s)\n",
        "# Use the SQL method from Spark to import the data as DataFrames. \n",
        "# See the reference code below. Also see the DataBricks Fraud Detection code as example.\n",
        "# For basic exploration, you can also use Pandas.\n",
        "# bs140513_032310.csv\n",
        "# bsNET140513_032310.csv\n",
        "!curl -O https://storage.googleapis.com/datascience-practice/bs140513_032310.csv.zip\n",
        "!curl -O https://storage.googleapis.com/datascience-practice/bsNET140513_032310.csv.zip"
      ],
      "execution_count": null,
      "outputs": [
        {
          "output_type": "stream",
          "text": [
            "  % Total    % Received % Xferd  Average Speed   Time    Time     Time  Current\n",
            "                                 Dload  Upload   Total   Spent    Left  Speed\n",
            "100 7251k  100 7251k    0     0  10.0M      0 --:--:-- --:--:-- --:--:-- 10.0M\n",
            "  % Total    % Received % Xferd  Average Speed   Time    Time     Time  Current\n",
            "                                 Dload  Upload   Total   Spent    Left  Speed\n",
            "100 6139k  100 6139k    0     0  5658k      0  0:00:01  0:00:01 --:--:-- 5658k\n"
          ],
          "name": "stdout"
        }
      ]
    },
    {
      "cell_type": "code",
      "metadata": {
        "colab": {
          "base_uri": "https://localhost:8080/"
        },
        "id": "u17B83vXX_v2",
        "outputId": "be202097-7c3e-47ae-fa90-ae9701f937f3"
      },
      "source": [
        "# (2.a) See the downloaded files\n",
        "!ls"
      ],
      "execution_count": null,
      "outputs": [
        {
          "output_type": "stream",
          "text": [
            "bs140513_032310.csv.zip  bsNET140513_032310.csv.zip  PS_subset.csv  sample_data\n"
          ],
          "name": "stdout"
        }
      ]
    },
    {
      "cell_type": "code",
      "metadata": {
        "colab": {
          "base_uri": "https://localhost:8080/"
        },
        "id": "Hz2rC_M-YH2-",
        "outputId": "a8bcae01-f172-401a-bcf8-236a33d0a08c"
      },
      "source": [
        "# (2.b) Unzip the files\n",
        "!unzip bs140513_032310.csv.zip\n",
        "!unzip bsNET140513_032310.csv.zip"
      ],
      "execution_count": null,
      "outputs": [
        {
          "output_type": "stream",
          "text": [
            "Archive:  bs140513_032310.csv.zip\n",
            "  inflating: bs140513_032310.csv     \n",
            "Archive:  bsNET140513_032310.csv.zip\n",
            "  inflating: bsNET140513_032310.csv  \n"
          ],
          "name": "stdout"
        }
      ]
    },
    {
      "cell_type": "code",
      "metadata": {
        "id": "CCahNKcOYQ2w"
      },
      "source": [
        "# (2.c) Read transaction data into Pandas DataFrame\n",
        "accountDf = pd.read_csv('bs140513_032310.csv')\n",
        "# (2.d) Read network data into Pandas DataFrame"
      ],
      "execution_count": null,
      "outputs": []
    },
    {
      "cell_type": "code",
      "metadata": {
        "colab": {
          "base_uri": "https://localhost:8080/",
          "height": 206
        },
        "id": "Qkp0LDVZI_cc",
        "outputId": "dfacb69f-0cdc-4a6d-adc4-931b80a5f1d7"
      },
      "source": [
        "accountDf.head()"
      ],
      "execution_count": null,
      "outputs": [
        {
          "output_type": "execute_result",
          "data": {
            "text/html": [
              "<div>\n",
              "<style scoped>\n",
              "    .dataframe tbody tr th:only-of-type {\n",
              "        vertical-align: middle;\n",
              "    }\n",
              "\n",
              "    .dataframe tbody tr th {\n",
              "        vertical-align: top;\n",
              "    }\n",
              "\n",
              "    .dataframe thead th {\n",
              "        text-align: right;\n",
              "    }\n",
              "</style>\n",
              "<table border=\"1\" class=\"dataframe\">\n",
              "  <thead>\n",
              "    <tr style=\"text-align: right;\">\n",
              "      <th></th>\n",
              "      <th>step</th>\n",
              "      <th>customer</th>\n",
              "      <th>age</th>\n",
              "      <th>gender</th>\n",
              "      <th>zipcodeOri</th>\n",
              "      <th>merchant</th>\n",
              "      <th>zipMerchant</th>\n",
              "      <th>category</th>\n",
              "      <th>amount</th>\n",
              "      <th>fraud</th>\n",
              "    </tr>\n",
              "  </thead>\n",
              "  <tbody>\n",
              "    <tr>\n",
              "      <th>0</th>\n",
              "      <td>0</td>\n",
              "      <td>'C1093826151'</td>\n",
              "      <td>'4'</td>\n",
              "      <td>'M'</td>\n",
              "      <td>'28007'</td>\n",
              "      <td>'M348934600'</td>\n",
              "      <td>'28007'</td>\n",
              "      <td>'es_transportation'</td>\n",
              "      <td>4.55</td>\n",
              "      <td>0</td>\n",
              "    </tr>\n",
              "    <tr>\n",
              "      <th>1</th>\n",
              "      <td>0</td>\n",
              "      <td>'C352968107'</td>\n",
              "      <td>'2'</td>\n",
              "      <td>'M'</td>\n",
              "      <td>'28007'</td>\n",
              "      <td>'M348934600'</td>\n",
              "      <td>'28007'</td>\n",
              "      <td>'es_transportation'</td>\n",
              "      <td>39.68</td>\n",
              "      <td>0</td>\n",
              "    </tr>\n",
              "    <tr>\n",
              "      <th>2</th>\n",
              "      <td>0</td>\n",
              "      <td>'C2054744914'</td>\n",
              "      <td>'4'</td>\n",
              "      <td>'F'</td>\n",
              "      <td>'28007'</td>\n",
              "      <td>'M1823072687'</td>\n",
              "      <td>'28007'</td>\n",
              "      <td>'es_transportation'</td>\n",
              "      <td>26.89</td>\n",
              "      <td>0</td>\n",
              "    </tr>\n",
              "    <tr>\n",
              "      <th>3</th>\n",
              "      <td>0</td>\n",
              "      <td>'C1760612790'</td>\n",
              "      <td>'3'</td>\n",
              "      <td>'M'</td>\n",
              "      <td>'28007'</td>\n",
              "      <td>'M348934600'</td>\n",
              "      <td>'28007'</td>\n",
              "      <td>'es_transportation'</td>\n",
              "      <td>17.25</td>\n",
              "      <td>0</td>\n",
              "    </tr>\n",
              "    <tr>\n",
              "      <th>4</th>\n",
              "      <td>0</td>\n",
              "      <td>'C757503768'</td>\n",
              "      <td>'5'</td>\n",
              "      <td>'M'</td>\n",
              "      <td>'28007'</td>\n",
              "      <td>'M348934600'</td>\n",
              "      <td>'28007'</td>\n",
              "      <td>'es_transportation'</td>\n",
              "      <td>35.72</td>\n",
              "      <td>0</td>\n",
              "    </tr>\n",
              "  </tbody>\n",
              "</table>\n",
              "</div>"
            ],
            "text/plain": [
              "   step       customer  age  ...             category amount fraud\n",
              "0     0  'C1093826151'  '4'  ...  'es_transportation'   4.55     0\n",
              "1     0   'C352968107'  '2'  ...  'es_transportation'  39.68     0\n",
              "2     0  'C2054744914'  '4'  ...  'es_transportation'  26.89     0\n",
              "3     0  'C1760612790'  '3'  ...  'es_transportation'  17.25     0\n",
              "4     0   'C757503768'  '5'  ...  'es_transportation'  35.72     0\n",
              "\n",
              "[5 rows x 10 columns]"
            ]
          },
          "metadata": {
            "tags": []
          },
          "execution_count": 123
        }
      ]
    },
    {
      "cell_type": "code",
      "metadata": {
        "colab": {
          "base_uri": "https://localhost:8080/"
        },
        "id": "sVXCe5OcJI8B",
        "outputId": "4b17b193-bfa3-4e00-b5bd-1b33da71eb21"
      },
      "source": [
        "accountDf.info()"
      ],
      "execution_count": null,
      "outputs": [
        {
          "output_type": "stream",
          "text": [
            "<class 'pandas.core.frame.DataFrame'>\n",
            "RangeIndex: 594643 entries, 0 to 594642\n",
            "Data columns (total 10 columns):\n",
            " #   Column       Non-Null Count   Dtype  \n",
            "---  ------       --------------   -----  \n",
            " 0   step         594643 non-null  int64  \n",
            " 1   customer     594643 non-null  object \n",
            " 2   age          594643 non-null  object \n",
            " 3   gender       594643 non-null  object \n",
            " 4   zipcodeOri   594643 non-null  object \n",
            " 5   merchant     594643 non-null  object \n",
            " 6   zipMerchant  594643 non-null  object \n",
            " 7   category     594643 non-null  object \n",
            " 8   amount       594643 non-null  float64\n",
            " 9   fraud        594643 non-null  int64  \n",
            "dtypes: float64(1), int64(2), object(7)\n",
            "memory usage: 45.4+ MB\n"
          ],
          "name": "stdout"
        }
      ]
    },
    {
      "cell_type": "code",
      "metadata": {
        "colab": {
          "base_uri": "https://localhost:8080/",
          "height": 378
        },
        "id": "63uWrT_6aMEZ",
        "outputId": "bede53a4-da94-428d-e7a0-8c50a7277491"
      },
      "source": [
        "# Look at the volume for different types of transactions \n",
        "fig = px.histogram(accountDf, x=\"type\")\n",
        "fig.show()"
      ],
      "execution_count": null,
      "outputs": [
        {
          "output_type": "error",
          "ename": "ValueError",
          "evalue": "ignored",
          "traceback": [
            "\u001b[0;31m---------------------------------------------------------------------------\u001b[0m",
            "\u001b[0;31mValueError\u001b[0m                                Traceback (most recent call last)",
            "\u001b[0;32m<ipython-input-125-25d0f3784d0b>\u001b[0m in \u001b[0;36m<module>\u001b[0;34m()\u001b[0m\n\u001b[1;32m      1\u001b[0m \u001b[0;31m# Look at the volume for different types of transactions\u001b[0m\u001b[0;34m\u001b[0m\u001b[0;34m\u001b[0m\u001b[0;34m\u001b[0m\u001b[0m\n\u001b[0;32m----> 2\u001b[0;31m \u001b[0mfig\u001b[0m \u001b[0;34m=\u001b[0m \u001b[0mpx\u001b[0m\u001b[0;34m.\u001b[0m\u001b[0mhistogram\u001b[0m\u001b[0;34m(\u001b[0m\u001b[0maccountDf\u001b[0m\u001b[0;34m,\u001b[0m \u001b[0mx\u001b[0m\u001b[0;34m=\u001b[0m\u001b[0;34m\"type\"\u001b[0m\u001b[0;34m)\u001b[0m\u001b[0;34m\u001b[0m\u001b[0;34m\u001b[0m\u001b[0m\n\u001b[0m\u001b[1;32m      3\u001b[0m \u001b[0mfig\u001b[0m\u001b[0;34m.\u001b[0m\u001b[0mshow\u001b[0m\u001b[0;34m(\u001b[0m\u001b[0;34m)\u001b[0m\u001b[0;34m\u001b[0m\u001b[0;34m\u001b[0m\u001b[0m\n",
            "\u001b[0;32m/usr/local/lib/python3.7/dist-packages/plotly/express/_chart_types.py\u001b[0m in \u001b[0;36mhistogram\u001b[0;34m(data_frame, x, y, color, facet_row, facet_col, facet_col_wrap, hover_name, hover_data, animation_frame, animation_group, category_orders, labels, color_discrete_sequence, color_discrete_map, marginal, opacity, orientation, barmode, barnorm, histnorm, log_x, log_y, range_x, range_y, histfunc, cumulative, nbins, title, template, width, height)\u001b[0m\n\u001b[1;32m    370\u001b[0m             \u001b[0mbingroup\u001b[0m\u001b[0;34m=\u001b[0m\u001b[0;34m\"x\"\u001b[0m \u001b[0;32mif\u001b[0m \u001b[0morientation\u001b[0m \u001b[0;34m==\u001b[0m \u001b[0;34m\"v\"\u001b[0m \u001b[0;32melse\u001b[0m \u001b[0;34m\"y\"\u001b[0m\u001b[0;34m,\u001b[0m\u001b[0;34m\u001b[0m\u001b[0;34m\u001b[0m\u001b[0m\n\u001b[1;32m    371\u001b[0m         ),\n\u001b[0;32m--> 372\u001b[0;31m         \u001b[0mlayout_patch\u001b[0m\u001b[0;34m=\u001b[0m\u001b[0mdict\u001b[0m\u001b[0;34m(\u001b[0m\u001b[0mbarmode\u001b[0m\u001b[0;34m=\u001b[0m\u001b[0mbarmode\u001b[0m\u001b[0;34m,\u001b[0m \u001b[0mbarnorm\u001b[0m\u001b[0;34m=\u001b[0m\u001b[0mbarnorm\u001b[0m\u001b[0;34m)\u001b[0m\u001b[0;34m,\u001b[0m\u001b[0;34m\u001b[0m\u001b[0;34m\u001b[0m\u001b[0m\n\u001b[0m\u001b[1;32m    373\u001b[0m     )\n\u001b[1;32m    374\u001b[0m \u001b[0;34m\u001b[0m\u001b[0m\n",
            "\u001b[0;32m/usr/local/lib/python3.7/dist-packages/plotly/express/_core.py\u001b[0m in \u001b[0;36mmake_figure\u001b[0;34m(args, constructor, trace_patch, layout_patch)\u001b[0m\n\u001b[1;32m   1170\u001b[0m \u001b[0;34m\u001b[0m\u001b[0m\n\u001b[1;32m   1171\u001b[0m     args, trace_specs, grouped_mappings, sizeref, show_colorbar = infer_config(\n\u001b[0;32m-> 1172\u001b[0;31m         \u001b[0margs\u001b[0m\u001b[0;34m,\u001b[0m \u001b[0mconstructor\u001b[0m\u001b[0;34m,\u001b[0m \u001b[0mtrace_patch\u001b[0m\u001b[0;34m\u001b[0m\u001b[0;34m\u001b[0m\u001b[0m\n\u001b[0m\u001b[1;32m   1173\u001b[0m     )\n\u001b[1;32m   1174\u001b[0m     \u001b[0mgrouper\u001b[0m \u001b[0;34m=\u001b[0m \u001b[0;34m[\u001b[0m\u001b[0mx\u001b[0m\u001b[0;34m.\u001b[0m\u001b[0mgrouper\u001b[0m \u001b[0;32mor\u001b[0m \u001b[0mone_group\u001b[0m \u001b[0;32mfor\u001b[0m \u001b[0mx\u001b[0m \u001b[0;32min\u001b[0m \u001b[0mgrouped_mappings\u001b[0m\u001b[0;34m]\u001b[0m \u001b[0;32mor\u001b[0m \u001b[0;34m[\u001b[0m\u001b[0mone_group\u001b[0m\u001b[0;34m]\u001b[0m\u001b[0;34m\u001b[0m\u001b[0;34m\u001b[0m\u001b[0m\n",
            "\u001b[0;32m/usr/local/lib/python3.7/dist-packages/plotly/express/_core.py\u001b[0m in \u001b[0;36minfer_config\u001b[0;34m(args, constructor, trace_patch)\u001b[0m\n\u001b[1;32m   1026\u001b[0m             \u001b[0mall_attrables\u001b[0m \u001b[0;34m+=\u001b[0m \u001b[0;34m[\u001b[0m\u001b[0mgroup_attr\u001b[0m\u001b[0;34m]\u001b[0m\u001b[0;34m\u001b[0m\u001b[0;34m\u001b[0m\u001b[0m\n\u001b[1;32m   1027\u001b[0m \u001b[0;34m\u001b[0m\u001b[0m\n\u001b[0;32m-> 1028\u001b[0;31m     \u001b[0margs\u001b[0m \u001b[0;34m=\u001b[0m \u001b[0mbuild_dataframe\u001b[0m\u001b[0;34m(\u001b[0m\u001b[0margs\u001b[0m\u001b[0;34m,\u001b[0m \u001b[0mall_attrables\u001b[0m\u001b[0;34m,\u001b[0m \u001b[0marray_attrables\u001b[0m\u001b[0;34m)\u001b[0m\u001b[0;34m\u001b[0m\u001b[0;34m\u001b[0m\u001b[0m\n\u001b[0m\u001b[1;32m   1029\u001b[0m \u001b[0;34m\u001b[0m\u001b[0m\n\u001b[1;32m   1030\u001b[0m     \u001b[0mattrs\u001b[0m \u001b[0;34m=\u001b[0m \u001b[0;34m[\u001b[0m\u001b[0mk\u001b[0m \u001b[0;32mfor\u001b[0m \u001b[0mk\u001b[0m \u001b[0;32min\u001b[0m \u001b[0mattrables\u001b[0m \u001b[0;32mif\u001b[0m \u001b[0mk\u001b[0m \u001b[0;32min\u001b[0m \u001b[0margs\u001b[0m\u001b[0;34m]\u001b[0m\u001b[0;34m\u001b[0m\u001b[0;34m\u001b[0m\u001b[0m\n",
            "\u001b[0;32m/usr/local/lib/python3.7/dist-packages/plotly/express/_core.py\u001b[0m in \u001b[0;36mbuild_dataframe\u001b[0;34m(args, attrables, array_attrables)\u001b[0m\n\u001b[1;32m    944\u001b[0m                             \u001b[0;34m\"\\n To use the index, pass it in directly as `df.index`.\"\u001b[0m\u001b[0;34m\u001b[0m\u001b[0;34m\u001b[0m\u001b[0m\n\u001b[1;32m    945\u001b[0m                         )\n\u001b[0;32m--> 946\u001b[0;31m                     \u001b[0;32mraise\u001b[0m \u001b[0mValueError\u001b[0m\u001b[0;34m(\u001b[0m\u001b[0merr_msg\u001b[0m\u001b[0;34m)\u001b[0m\u001b[0;34m\u001b[0m\u001b[0;34m\u001b[0m\u001b[0m\n\u001b[0m\u001b[1;32m    947\u001b[0m                 \u001b[0;32mif\u001b[0m \u001b[0mlength\u001b[0m \u001b[0;32mand\u001b[0m \u001b[0mlen\u001b[0m\u001b[0;34m(\u001b[0m\u001b[0mdf_input\u001b[0m\u001b[0;34m[\u001b[0m\u001b[0margument\u001b[0m\u001b[0;34m]\u001b[0m\u001b[0;34m)\u001b[0m \u001b[0;34m!=\u001b[0m \u001b[0mlength\u001b[0m\u001b[0;34m:\u001b[0m\u001b[0;34m\u001b[0m\u001b[0;34m\u001b[0m\u001b[0m\n\u001b[1;32m    948\u001b[0m                     raise ValueError(\n",
            "\u001b[0;31mValueError\u001b[0m: Value of 'x' is not the name of a column in 'data_frame'. Expected one of ['step', 'customer', 'age', 'gender', 'zipcodeOri', 'merchant', 'zipMerchant', 'category', 'amount', 'fraud'] but received: type"
          ]
        }
      ]
    },
    {
      "cell_type": "code",
      "metadata": {
        "id": "uf_bds7ha185"
      },
      "source": [
        "# Look at extent of fraudulent transcations \n",
        "accountDf.groupby('isFraud').sum()"
      ],
      "execution_count": null,
      "outputs": []
    },
    {
      "cell_type": "code",
      "metadata": {
        "id": "9-cS2E2pMzw8"
      },
      "source": [
        "fig = px.pie(accountDf, values='amount', names='type', color_discrete_sequence=px.colors.sequential.RdBu)\n",
        "fig.show()"
      ],
      "execution_count": null,
      "outputs": []
    },
    {
      "cell_type": "code",
      "metadata": {
        "id": "WNJRwH8aOx5l"
      },
      "source": [
        "# Check ratio of fraudulent transactions\n",
        "totalFraud = accountDf[accountDf['isFraud'] == 1]['amount'].sum()\n",
        "totalNonFraud = accountDf[accountDf['isFraud'] == 0]['amount'].sum()\n",
        "totalAmount = accountDf['amount'].sum()\n",
        "\n",
        "totalFraudTransactions = len(accountDf[accountDf['isFraud'] == 1])\n",
        "totalNonFraudTransactions = len(accountDf[accountDf['isFraud'] == 0])"
      ],
      "execution_count": null,
      "outputs": []
    },
    {
      "cell_type": "code",
      "metadata": {
        "id": "h45F-AIAOCLQ"
      },
      "source": [
        "ratioAmountDf = pd.DataFrame({\n",
        "    'sum': [totalFraud, totalNonFraud], \n",
        "    'isFraud': [1, 0]\n",
        "})\n",
        "\n",
        "ratioTransactionDf = pd.DataFrame({\n",
        "    'sum': [totalFraudTransactions, totalNonFraudTransactions], \n",
        "    'isFraud': [1, 0]\n",
        "})"
      ],
      "execution_count": null,
      "outputs": []
    },
    {
      "cell_type": "code",
      "metadata": {
        "id": "V3imGEErSshn"
      },
      "source": [
        "# Ratio of fraudulent transactions in 'transactions'\n",
        "fig = px.pie(ratioTransactionDf, values='sum', names='isFraud')\n",
        "fig.show()"
      ],
      "execution_count": null,
      "outputs": []
    },
    {
      "cell_type": "code",
      "metadata": {
        "id": "IPFohk-x-OLt"
      },
      "source": [
        "# Ratio of fraudulent transactions in 'amount'\n",
        "fig = px.pie(ratioAmountDf, values='sum', names='isFraud')\n",
        "fig.show()"
      ],
      "execution_count": null,
      "outputs": []
    },
    {
      "cell_type": "code",
      "metadata": {
        "id": "XF_pXXeCKcc9"
      },
      "source": [
        "accountDf[\"type\"]==\"CASH_OUT\""
      ],
      "execution_count": null,
      "outputs": []
    },
    {
      "cell_type": "code",
      "metadata": {
        "id": "N2WUbSNtIhpJ"
      },
      "source": [
        "# making boolean series for a team name\n",
        "filter1 = accountDf[\"type\"]==\"CASH_OUT\"\n",
        "filter2 = accountDf[\"isFraud\"]==1\n",
        "  \n",
        "# filtering data\n",
        "accountDfSubset = accountDf[filter1 & filter2]"
      ],
      "execution_count": null,
      "outputs": []
    },
    {
      "cell_type": "markdown",
      "metadata": {
        "id": "u-SSpEcf7SlQ"
      },
      "source": [
        "### Rules Based vs Machine Learning"
      ]
    },
    {
      "cell_type": "code",
      "metadata": {
        "id": "HLjL4QDPL4Ml"
      },
      "source": [
        "conditions = [\n",
        "    (accountDf['oldbalanceOrg'] <= 56900) & (accountDf['type'] == 'TRANSFER') & (accountDf['newbalanceDest'] <= 105),\n",
        "    (accountDf['oldbalanceOrg'] < 56900) & (accountDf['newbalanceDest'] <= 12),\n",
        "    (accountDf['oldbalanceOrg'] > 56900) & (accountDf['newbalanceOrig'] > 12) & (accountDf['amount'] > 1160000)\n",
        "]\n",
        "\n",
        "mapping = [1, 1, 1]\n",
        "\n",
        "accountDf['label'] = np.select(conditions, mapping, default=0)"
      ],
      "execution_count": null,
      "outputs": []
    },
    {
      "cell_type": "code",
      "metadata": {
        "id": "ChfVzlLd8sup"
      },
      "source": [
        "accountDf.head()"
      ],
      "execution_count": null,
      "outputs": []
    },
    {
      "cell_type": "code",
      "metadata": {
        "id": "t-04g4Wq8JBo"
      },
      "source": [
        "features = accountDf.drop(['label'], axis=1)\n",
        "label = accountDf['label']"
      ],
      "execution_count": null,
      "outputs": []
    },
    {
      "cell_type": "code",
      "metadata": {
        "id": "mtbtSvwI9yMX"
      },
      "source": [
        "features = pd.get_dummies(features, columns=['type'])"
      ],
      "execution_count": null,
      "outputs": []
    },
    {
      "cell_type": "code",
      "metadata": {
        "id": "DQSTp9qP9hwo"
      },
      "source": [
        "features.head()"
      ],
      "execution_count": null,
      "outputs": []
    },
    {
      "cell_type": "code",
      "metadata": {
        "id": "ShM1Qt2R-O6k"
      },
      "source": [
        "features.drop(['nameOrig', 'nameDest'], axis=1, inplace=True)"
      ],
      "execution_count": null,
      "outputs": []
    },
    {
      "cell_type": "code",
      "metadata": {
        "id": "XVatsOVj7gGD"
      },
      "source": [
        "trainF, testF, trainL, testL = train_test_split(features, label, test_size=0.4, random_state=42)\n",
        "testF, valF, testL, valL = train_test_split(testF, testL, test_size=0.5, random_state=42)"
      ],
      "execution_count": null,
      "outputs": []
    },
    {
      "cell_type": "code",
      "metadata": {
        "id": "XSJcoh8i9IMP"
      },
      "source": [
        "# Create 3 RandomForestClassifiers with the best hyperparameters\n",
        "rfModel1 = RandomForestClassifier(n_estimators=50, max_depth=10)\n",
        "rfModel1.fit(trainF, trainL.values.ravel())"
      ],
      "execution_count": null,
      "outputs": []
    },
    {
      "cell_type": "code",
      "metadata": {
        "id": "zKp92X0a_DyQ"
      },
      "source": [
        "predLabel = rfModel1.predict(valF)"
      ],
      "execution_count": null,
      "outputs": []
    },
    {
      "cell_type": "code",
      "metadata": {
        "id": "-HVrDlhQ_Jqc"
      },
      "source": [
        "# Use the test data set with the best available model\n",
        "predLabel = rfModel1.predict(testF)\n",
        "\n",
        "accuracy = round(accuracy_score(testL, predLabel), 3)\n",
        "precision = round(precision_score(testL, predLabel), 3)\n",
        "recall = round(recall_score(testL, predLabel), 3)\n",
        "\n",
        "print(\n",
        "        'Max depth: {} and Estimators: {} ---> Accuracy: {}, Precision: {}, Recall: {}'\n",
        "        .format(rfModel1.max_depth, rfModel1.n_estimators, accuracy, precision, recall)\n",
        ")"
      ],
      "execution_count": null,
      "outputs": []
    }
  ]
}