{
  "nbformat": 4,
  "nbformat_minor": 0,
  "metadata": {
    "colab": {
      "name": "simple-plotting.ipynb",
      "provenance": []
    },
    "kernelspec": {
      "name": "python3",
      "display_name": "Python 3"
    },
    "language_info": {
      "name": "python"
    }
  },
  "cells": [
    {
      "cell_type": "code",
      "metadata": {
        "id": "FaAfa3th-BB4"
      },
      "source": [
        "import pandas as pd"
      ],
      "execution_count": 26,
      "outputs": []
    },
    {
      "cell_type": "code",
      "metadata": {
        "id": "_96tNjTU-H8Z"
      },
      "source": [
        "houseDf = pd.read_csv('./ml_house_data_set.csv')"
      ],
      "execution_count": 27,
      "outputs": []
    },
    {
      "cell_type": "code",
      "metadata": {
        "colab": {
          "base_uri": "https://localhost:8080/"
        },
        "id": "vSeRHhi_DX9H",
        "outputId": "e3e5e995-9b53-4ff5-99cd-2cba0d58fe30"
      },
      "source": [
        "houseDf.info()"
      ],
      "execution_count": 28,
      "outputs": [
        {
          "output_type": "stream",
          "name": "stdout",
          "text": [
            "<class 'pandas.core.frame.DataFrame'>\n",
            "RangeIndex: 19643 entries, 0 to 19642\n",
            "Data columns (total 20 columns):\n",
            " #   Column               Non-Null Count  Dtype  \n",
            "---  ------               --------------  -----  \n",
            " 0   year_built           19643 non-null  int64  \n",
            " 1   stories              19643 non-null  int64  \n",
            " 2   num_bedrooms         19643 non-null  int64  \n",
            " 3   full_bathrooms       19643 non-null  int64  \n",
            " 4   half_bathrooms       19643 non-null  int64  \n",
            " 5   livable_sqft         19643 non-null  int64  \n",
            " 6   total_sqft           19643 non-null  int64  \n",
            " 7   garage_type          19643 non-null  object \n",
            " 8   garage_sqft          19643 non-null  int64  \n",
            " 9   carport_sqft         19643 non-null  int64  \n",
            " 10  has_fireplace        19643 non-null  bool   \n",
            " 11  has_pool             19643 non-null  bool   \n",
            " 12  has_central_heating  19643 non-null  bool   \n",
            " 13  has_central_cooling  19643 non-null  bool   \n",
            " 14  house_number         19643 non-null  int64  \n",
            " 15  street_name          19643 non-null  object \n",
            " 16  unit_number          1338 non-null   float64\n",
            " 17  city                 19643 non-null  object \n",
            " 18  zip_code             19642 non-null  float64\n",
            " 19  sale_price           19642 non-null  float64\n",
            "dtypes: bool(4), float64(3), int64(10), object(3)\n",
            "memory usage: 2.5+ MB\n"
          ]
        }
      ]
    },
    {
      "cell_type": "code",
      "metadata": {
        "colab": {
          "base_uri": "https://localhost:8080/",
          "height": 295
        },
        "id": "muAu_BLs-nEi",
        "outputId": "f49fb02d-ef09-4046-f9f3-9fc14e8975dd"
      },
      "source": [
        "houseDf.head()"
      ],
      "execution_count": 29,
      "outputs": [
        {
          "output_type": "execute_result",
          "data": {
            "text/html": [
              "<div>\n",
              "<style scoped>\n",
              "    .dataframe tbody tr th:only-of-type {\n",
              "        vertical-align: middle;\n",
              "    }\n",
              "\n",
              "    .dataframe tbody tr th {\n",
              "        vertical-align: top;\n",
              "    }\n",
              "\n",
              "    .dataframe thead th {\n",
              "        text-align: right;\n",
              "    }\n",
              "</style>\n",
              "<table border=\"1\" class=\"dataframe\">\n",
              "  <thead>\n",
              "    <tr style=\"text-align: right;\">\n",
              "      <th></th>\n",
              "      <th>year_built</th>\n",
              "      <th>stories</th>\n",
              "      <th>num_bedrooms</th>\n",
              "      <th>full_bathrooms</th>\n",
              "      <th>half_bathrooms</th>\n",
              "      <th>livable_sqft</th>\n",
              "      <th>total_sqft</th>\n",
              "      <th>garage_type</th>\n",
              "      <th>garage_sqft</th>\n",
              "      <th>carport_sqft</th>\n",
              "      <th>has_fireplace</th>\n",
              "      <th>has_pool</th>\n",
              "      <th>has_central_heating</th>\n",
              "      <th>has_central_cooling</th>\n",
              "      <th>house_number</th>\n",
              "      <th>street_name</th>\n",
              "      <th>unit_number</th>\n",
              "      <th>city</th>\n",
              "      <th>zip_code</th>\n",
              "      <th>sale_price</th>\n",
              "    </tr>\n",
              "  </thead>\n",
              "  <tbody>\n",
              "    <tr>\n",
              "      <th>0</th>\n",
              "      <td>1978</td>\n",
              "      <td>1</td>\n",
              "      <td>4</td>\n",
              "      <td>1</td>\n",
              "      <td>1</td>\n",
              "      <td>1689</td>\n",
              "      <td>1859</td>\n",
              "      <td>attached</td>\n",
              "      <td>508</td>\n",
              "      <td>0</td>\n",
              "      <td>True</td>\n",
              "      <td>False</td>\n",
              "      <td>True</td>\n",
              "      <td>True</td>\n",
              "      <td>42670</td>\n",
              "      <td>Lopez Crossing</td>\n",
              "      <td>NaN</td>\n",
              "      <td>Hallfort</td>\n",
              "      <td>10907.0</td>\n",
              "      <td>270897.0</td>\n",
              "    </tr>\n",
              "    <tr>\n",
              "      <th>1</th>\n",
              "      <td>1958</td>\n",
              "      <td>1</td>\n",
              "      <td>3</td>\n",
              "      <td>1</td>\n",
              "      <td>1</td>\n",
              "      <td>1984</td>\n",
              "      <td>2002</td>\n",
              "      <td>attached</td>\n",
              "      <td>462</td>\n",
              "      <td>0</td>\n",
              "      <td>True</td>\n",
              "      <td>False</td>\n",
              "      <td>True</td>\n",
              "      <td>True</td>\n",
              "      <td>5194</td>\n",
              "      <td>Gardner Park</td>\n",
              "      <td>NaN</td>\n",
              "      <td>Hallfort</td>\n",
              "      <td>10907.0</td>\n",
              "      <td>302404.0</td>\n",
              "    </tr>\n",
              "    <tr>\n",
              "      <th>2</th>\n",
              "      <td>2002</td>\n",
              "      <td>1</td>\n",
              "      <td>3</td>\n",
              "      <td>2</td>\n",
              "      <td>0</td>\n",
              "      <td>1581</td>\n",
              "      <td>1578</td>\n",
              "      <td>none</td>\n",
              "      <td>0</td>\n",
              "      <td>625</td>\n",
              "      <td>False</td>\n",
              "      <td>False</td>\n",
              "      <td>True</td>\n",
              "      <td>True</td>\n",
              "      <td>4366</td>\n",
              "      <td>Harding Islands</td>\n",
              "      <td>NaN</td>\n",
              "      <td>Lake Christinaport</td>\n",
              "      <td>11203.0</td>\n",
              "      <td>2519996.0</td>\n",
              "    </tr>\n",
              "    <tr>\n",
              "      <th>3</th>\n",
              "      <td>2004</td>\n",
              "      <td>1</td>\n",
              "      <td>4</td>\n",
              "      <td>2</td>\n",
              "      <td>0</td>\n",
              "      <td>1829</td>\n",
              "      <td>2277</td>\n",
              "      <td>attached</td>\n",
              "      <td>479</td>\n",
              "      <td>0</td>\n",
              "      <td>True</td>\n",
              "      <td>False</td>\n",
              "      <td>True</td>\n",
              "      <td>True</td>\n",
              "      <td>3302</td>\n",
              "      <td>Michelle Highway</td>\n",
              "      <td>NaN</td>\n",
              "      <td>Lake Christinaport</td>\n",
              "      <td>11203.0</td>\n",
              "      <td>197193.0</td>\n",
              "    </tr>\n",
              "    <tr>\n",
              "      <th>4</th>\n",
              "      <td>2006</td>\n",
              "      <td>1</td>\n",
              "      <td>4</td>\n",
              "      <td>2</td>\n",
              "      <td>0</td>\n",
              "      <td>1580</td>\n",
              "      <td>1749</td>\n",
              "      <td>attached</td>\n",
              "      <td>430</td>\n",
              "      <td>0</td>\n",
              "      <td>True</td>\n",
              "      <td>False</td>\n",
              "      <td>True</td>\n",
              "      <td>True</td>\n",
              "      <td>582</td>\n",
              "      <td>Jacob Cape</td>\n",
              "      <td>NaN</td>\n",
              "      <td>Lake Christinaport</td>\n",
              "      <td>11203.0</td>\n",
              "      <td>207897.0</td>\n",
              "    </tr>\n",
              "  </tbody>\n",
              "</table>\n",
              "</div>"
            ],
            "text/plain": [
              "   year_built  stories  num_bedrooms  ...                city  zip_code  sale_price\n",
              "0        1978        1             4  ...            Hallfort   10907.0    270897.0\n",
              "1        1958        1             3  ...            Hallfort   10907.0    302404.0\n",
              "2        2002        1             3  ...  Lake Christinaport   11203.0   2519996.0\n",
              "3        2004        1             4  ...  Lake Christinaport   11203.0    197193.0\n",
              "4        2006        1             4  ...  Lake Christinaport   11203.0    207897.0\n",
              "\n",
              "[5 rows x 20 columns]"
            ]
          },
          "metadata": {},
          "execution_count": 29
        }
      ]
    },
    {
      "cell_type": "code",
      "metadata": {
        "colab": {
          "base_uri": "https://localhost:8080/",
          "height": 283
        },
        "id": "Jthor8Vh-oHe",
        "outputId": "c154ab5b-0c16-42cb-9c96-b20d4c7b2446"
      },
      "source": [
        "houseDf['num_bedrooms'].plot.kde()"
      ],
      "execution_count": 30,
      "outputs": [
        {
          "output_type": "execute_result",
          "data": {
            "text/plain": [
              "<matplotlib.axes._subplots.AxesSubplot at 0x7f48e382ba10>"
            ]
          },
          "metadata": {},
          "execution_count": 30
        },
        {
          "output_type": "display_data",
          "data": {
            "image/png": "[encoded data removed]",
            "text/plain": [
              "<Figure size 432x288 with 1 Axes>"
            ]
          },
          "metadata": {
            "needs_background": "light"
          }
        }
      ]
    },
    {
      "cell_type": "code",
      "metadata": {
        "colab": {
          "base_uri": "https://localhost:8080/",
          "height": 283
        },
        "id": "wxeBlaUj-vNE",
        "outputId": "eb380002-751d-47e6-e4fb-8a09bbf22574"
      },
      "source": [
        "sampleData = pd.Series([1, 2, 2.5, 3, 3.5, 4, 5])\n",
        "sampleData.plot.kde()"
      ],
      "execution_count": 31,
      "outputs": [
        {
          "output_type": "execute_result",
          "data": {
            "text/plain": [
              "<matplotlib.axes._subplots.AxesSubplot at 0x7f48e37930d0>"
            ]
          },
          "metadata": {},
          "execution_count": 31
        },
        {
          "output_type": "display_data",
          "data": {
            "image/png": "[encoded data removed]",
            "text/plain": [
              "<Figure size 432x288 with 1 Axes>"
            ]
          },
          "metadata": {
            "needs_background": "light"
          }
        }
      ]
    },
    {
      "cell_type": "code",
      "metadata": {
        "colab": {
          "base_uri": "https://localhost:8080/",
          "height": 298
        },
        "id": "u7VIX8WC--ta",
        "outputId": "c8b316ad-e648-43c2-e57b-93cb20fec91a"
      },
      "source": [
        "# y = houseDf['full_bathrooms']\n",
        "# x = houseDf['num_bedrooms']\n",
        "\n",
        "houseDf.plot(kind='scatter', x='num_bedrooms', y='full_bathrooms')"
      ],
      "execution_count": 32,
      "outputs": [
        {
          "output_type": "execute_result",
          "data": {
            "text/plain": [
              "<matplotlib.axes._subplots.AxesSubplot at 0x7f48e3786a10>"
            ]
          },
          "metadata": {},
          "execution_count": 32
        },
        {
          "output_type": "display_data",
          "data": {
            "image/png": "[encoded data removed]",
            "text/plain": [
              "<Figure size 432x288 with 1 Axes>"
            ]
          },
          "metadata": {
            "needs_background": "light"
          }
        }
      ]
    },
    {
      "cell_type": "code",
      "metadata": {
        "colab": {
          "base_uri": "https://localhost:8080/",
          "height": 602
        },
        "id": "Ym_nXFshAR5m",
        "outputId": "1bf1a31e-7540-48c4-f88a-7f2a1b80a6a1"
      },
      "source": [
        "# (Pearson's) Correlation with Pandas. Correlation is -1 <= r <= +1\n",
        "\n",
        "houseDf.corr()"
      ],
      "execution_count": 33,
      "outputs": [
        {
          "output_type": "execute_result",
          "data": {
            "text/html": [
              "<div>\n",
              "<style scoped>\n",
              "    .dataframe tbody tr th:only-of-type {\n",
              "        vertical-align: middle;\n",
              "    }\n",
              "\n",
              "    .dataframe tbody tr th {\n",
              "        vertical-align: top;\n",
              "    }\n",
              "\n",
              "    .dataframe thead th {\n",
              "        text-align: right;\n",
              "    }\n",
              "</style>\n",
              "<table border=\"1\" class=\"dataframe\">\n",
              "  <thead>\n",
              "    <tr style=\"text-align: right;\">\n",
              "      <th></th>\n",
              "      <th>year_built</th>\n",
              "      <th>stories</th>\n",
              "      <th>num_bedrooms</th>\n",
              "      <th>full_bathrooms</th>\n",
              "      <th>half_bathrooms</th>\n",
              "      <th>livable_sqft</th>\n",
              "      <th>total_sqft</th>\n",
              "      <th>garage_sqft</th>\n",
              "      <th>carport_sqft</th>\n",
              "      <th>has_fireplace</th>\n",
              "      <th>has_pool</th>\n",
              "      <th>has_central_heating</th>\n",
              "      <th>has_central_cooling</th>\n",
              "      <th>house_number</th>\n",
              "      <th>unit_number</th>\n",
              "      <th>zip_code</th>\n",
              "      <th>sale_price</th>\n",
              "    </tr>\n",
              "  </thead>\n",
              "  <tbody>\n",
              "    <tr>\n",
              "      <th>year_built</th>\n",
              "      <td>1.000000</td>\n",
              "      <td>0.354414</td>\n",
              "      <td>0.359458</td>\n",
              "      <td>0.510025</td>\n",
              "      <td>0.029688</td>\n",
              "      <td>0.506543</td>\n",
              "      <td>0.447430</td>\n",
              "      <td>0.426578</td>\n",
              "      <td>-0.181743</td>\n",
              "      <td>0.125304</td>\n",
              "      <td>-0.026734</td>\n",
              "      <td>0.538260</td>\n",
              "      <td>0.570723</td>\n",
              "      <td>0.006822</td>\n",
              "      <td>-0.019773</td>\n",
              "      <td>0.025944</td>\n",
              "      <td>0.211716</td>\n",
              "    </tr>\n",
              "    <tr>\n",
              "      <th>stories</th>\n",
              "      <td>0.354414</td>\n",
              "      <td>1.000000</td>\n",
              "      <td>0.411001</td>\n",
              "      <td>0.400741</td>\n",
              "      <td>0.182537</td>\n",
              "      <td>0.415676</td>\n",
              "      <td>0.359168</td>\n",
              "      <td>0.271757</td>\n",
              "      <td>-0.161268</td>\n",
              "      <td>0.171922</td>\n",
              "      <td>-0.015857</td>\n",
              "      <td>0.158016</td>\n",
              "      <td>0.187589</td>\n",
              "      <td>-0.009638</td>\n",
              "      <td>0.040260</td>\n",
              "      <td>-0.047049</td>\n",
              "      <td>0.128100</td>\n",
              "    </tr>\n",
              "    <tr>\n",
              "      <th>num_bedrooms</th>\n",
              "      <td>0.359458</td>\n",
              "      <td>0.411001</td>\n",
              "      <td>1.000000</td>\n",
              "      <td>0.555099</td>\n",
              "      <td>0.092118</td>\n",
              "      <td>0.649023</td>\n",
              "      <td>0.602572</td>\n",
              "      <td>0.480781</td>\n",
              "      <td>-0.214224</td>\n",
              "      <td>0.302626</td>\n",
              "      <td>0.159985</td>\n",
              "      <td>0.190774</td>\n",
              "      <td>0.199893</td>\n",
              "      <td>-0.000142</td>\n",
              "      <td>0.000529</td>\n",
              "      <td>-0.078392</td>\n",
              "      <td>0.289602</td>\n",
              "    </tr>\n",
              "    <tr>\n",
              "      <th>full_bathrooms</th>\n",
              "      <td>0.510025</td>\n",
              "      <td>0.400741</td>\n",
              "      <td>0.555099</td>\n",
              "      <td>1.000000</td>\n",
              "      <td>-0.322532</td>\n",
              "      <td>0.728382</td>\n",
              "      <td>0.695754</td>\n",
              "      <td>0.428278</td>\n",
              "      <td>-0.071794</td>\n",
              "      <td>0.229908</td>\n",
              "      <td>0.169524</td>\n",
              "      <td>0.280272</td>\n",
              "      <td>0.316268</td>\n",
              "      <td>0.011847</td>\n",
              "      <td>-0.016364</td>\n",
              "      <td>-0.005256</td>\n",
              "      <td>0.404321</td>\n",
              "    </tr>\n",
              "    <tr>\n",
              "      <th>half_bathrooms</th>\n",
              "      <td>0.029688</td>\n",
              "      <td>0.182537</td>\n",
              "      <td>0.092118</td>\n",
              "      <td>-0.322532</td>\n",
              "      <td>1.000000</td>\n",
              "      <td>0.100832</td>\n",
              "      <td>0.105215</td>\n",
              "      <td>0.156962</td>\n",
              "      <td>-0.150506</td>\n",
              "      <td>0.101211</td>\n",
              "      <td>0.042864</td>\n",
              "      <td>0.097290</td>\n",
              "      <td>0.076986</td>\n",
              "      <td>-0.004343</td>\n",
              "      <td>0.024969</td>\n",
              "      <td>-0.016055</td>\n",
              "      <td>0.078021</td>\n",
              "    </tr>\n",
              "    <tr>\n",
              "      <th>livable_sqft</th>\n",
              "      <td>0.506543</td>\n",
              "      <td>0.415676</td>\n",
              "      <td>0.649023</td>\n",
              "      <td>0.728382</td>\n",
              "      <td>0.100832</td>\n",
              "      <td>1.000000</td>\n",
              "      <td>0.974973</td>\n",
              "      <td>0.604691</td>\n",
              "      <td>-0.171569</td>\n",
              "      <td>0.313415</td>\n",
              "      <td>0.259089</td>\n",
              "      <td>0.267912</td>\n",
              "      <td>0.302802</td>\n",
              "      <td>0.007192</td>\n",
              "      <td>0.032158</td>\n",
              "      <td>-0.026375</td>\n",
              "      <td>0.575454</td>\n",
              "    </tr>\n",
              "    <tr>\n",
              "      <th>total_sqft</th>\n",
              "      <td>0.447430</td>\n",
              "      <td>0.359168</td>\n",
              "      <td>0.602572</td>\n",
              "      <td>0.695754</td>\n",
              "      <td>0.105215</td>\n",
              "      <td>0.974973</td>\n",
              "      <td>1.000000</td>\n",
              "      <td>0.593524</td>\n",
              "      <td>-0.171601</td>\n",
              "      <td>0.308394</td>\n",
              "      <td>0.287175</td>\n",
              "      <td>0.240128</td>\n",
              "      <td>0.275868</td>\n",
              "      <td>0.005784</td>\n",
              "      <td>0.035952</td>\n",
              "      <td>-0.012613</td>\n",
              "      <td>0.607890</td>\n",
              "    </tr>\n",
              "    <tr>\n",
              "      <th>garage_sqft</th>\n",
              "      <td>0.426578</td>\n",
              "      <td>0.271757</td>\n",
              "      <td>0.480781</td>\n",
              "      <td>0.428278</td>\n",
              "      <td>0.156962</td>\n",
              "      <td>0.604691</td>\n",
              "      <td>0.593524</td>\n",
              "      <td>1.000000</td>\n",
              "      <td>-0.394997</td>\n",
              "      <td>0.406092</td>\n",
              "      <td>0.196105</td>\n",
              "      <td>0.251037</td>\n",
              "      <td>0.292219</td>\n",
              "      <td>0.008878</td>\n",
              "      <td>0.038787</td>\n",
              "      <td>-0.045522</td>\n",
              "      <td>0.419950</td>\n",
              "    </tr>\n",
              "    <tr>\n",
              "      <th>carport_sqft</th>\n",
              "      <td>-0.181743</td>\n",
              "      <td>-0.161268</td>\n",
              "      <td>-0.214224</td>\n",
              "      <td>-0.071794</td>\n",
              "      <td>-0.150506</td>\n",
              "      <td>-0.171569</td>\n",
              "      <td>-0.171601</td>\n",
              "      <td>-0.394997</td>\n",
              "      <td>1.000000</td>\n",
              "      <td>-0.253954</td>\n",
              "      <td>-0.073751</td>\n",
              "      <td>-0.017204</td>\n",
              "      <td>-0.054289</td>\n",
              "      <td>0.001061</td>\n",
              "      <td>-0.034894</td>\n",
              "      <td>0.074959</td>\n",
              "      <td>-0.164351</td>\n",
              "    </tr>\n",
              "    <tr>\n",
              "      <th>has_fireplace</th>\n",
              "      <td>0.125304</td>\n",
              "      <td>0.171922</td>\n",
              "      <td>0.302626</td>\n",
              "      <td>0.229908</td>\n",
              "      <td>0.101211</td>\n",
              "      <td>0.313415</td>\n",
              "      <td>0.308394</td>\n",
              "      <td>0.406092</td>\n",
              "      <td>-0.253954</td>\n",
              "      <td>1.000000</td>\n",
              "      <td>0.231396</td>\n",
              "      <td>0.182026</td>\n",
              "      <td>0.188851</td>\n",
              "      <td>-0.000233</td>\n",
              "      <td>0.008887</td>\n",
              "      <td>-0.057967</td>\n",
              "      <td>0.243273</td>\n",
              "    </tr>\n",
              "    <tr>\n",
              "      <th>has_pool</th>\n",
              "      <td>-0.026734</td>\n",
              "      <td>-0.015857</td>\n",
              "      <td>0.159985</td>\n",
              "      <td>0.169524</td>\n",
              "      <td>0.042864</td>\n",
              "      <td>0.259089</td>\n",
              "      <td>0.287175</td>\n",
              "      <td>0.196105</td>\n",
              "      <td>-0.073751</td>\n",
              "      <td>0.231396</td>\n",
              "      <td>1.000000</td>\n",
              "      <td>0.074302</td>\n",
              "      <td>0.077250</td>\n",
              "      <td>0.017550</td>\n",
              "      <td>0.002298</td>\n",
              "      <td>-0.017734</td>\n",
              "      <td>0.326524</td>\n",
              "    </tr>\n",
              "    <tr>\n",
              "      <th>has_central_heating</th>\n",
              "      <td>0.538260</td>\n",
              "      <td>0.158016</td>\n",
              "      <td>0.190774</td>\n",
              "      <td>0.280272</td>\n",
              "      <td>0.097290</td>\n",
              "      <td>0.267912</td>\n",
              "      <td>0.240128</td>\n",
              "      <td>0.251037</td>\n",
              "      <td>-0.017204</td>\n",
              "      <td>0.182026</td>\n",
              "      <td>0.074302</td>\n",
              "      <td>1.000000</td>\n",
              "      <td>0.784120</td>\n",
              "      <td>0.010451</td>\n",
              "      <td>0.015130</td>\n",
              "      <td>0.025204</td>\n",
              "      <td>0.113599</td>\n",
              "    </tr>\n",
              "    <tr>\n",
              "      <th>has_central_cooling</th>\n",
              "      <td>0.570723</td>\n",
              "      <td>0.187589</td>\n",
              "      <td>0.199893</td>\n",
              "      <td>0.316268</td>\n",
              "      <td>0.076986</td>\n",
              "      <td>0.302802</td>\n",
              "      <td>0.275868</td>\n",
              "      <td>0.292219</td>\n",
              "      <td>-0.054289</td>\n",
              "      <td>0.188851</td>\n",
              "      <td>0.077250</td>\n",
              "      <td>0.784120</td>\n",
              "      <td>1.000000</td>\n",
              "      <td>-0.001458</td>\n",
              "      <td>0.024210</td>\n",
              "      <td>0.053529</td>\n",
              "      <td>0.128348</td>\n",
              "    </tr>\n",
              "    <tr>\n",
              "      <th>house_number</th>\n",
              "      <td>0.006822</td>\n",
              "      <td>-0.009638</td>\n",
              "      <td>-0.000142</td>\n",
              "      <td>0.011847</td>\n",
              "      <td>-0.004343</td>\n",
              "      <td>0.007192</td>\n",
              "      <td>0.005784</td>\n",
              "      <td>0.008878</td>\n",
              "      <td>0.001061</td>\n",
              "      <td>-0.000233</td>\n",
              "      <td>0.017550</td>\n",
              "      <td>0.010451</td>\n",
              "      <td>-0.001458</td>\n",
              "      <td>1.000000</td>\n",
              "      <td>-0.043645</td>\n",
              "      <td>-0.009748</td>\n",
              "      <td>0.006857</td>\n",
              "    </tr>\n",
              "    <tr>\n",
              "      <th>unit_number</th>\n",
              "      <td>-0.019773</td>\n",
              "      <td>0.040260</td>\n",
              "      <td>0.000529</td>\n",
              "      <td>-0.016364</td>\n",
              "      <td>0.024969</td>\n",
              "      <td>0.032158</td>\n",
              "      <td>0.035952</td>\n",
              "      <td>0.038787</td>\n",
              "      <td>-0.034894</td>\n",
              "      <td>0.008887</td>\n",
              "      <td>0.002298</td>\n",
              "      <td>0.015130</td>\n",
              "      <td>0.024210</td>\n",
              "      <td>-0.043645</td>\n",
              "      <td>1.000000</td>\n",
              "      <td>0.029803</td>\n",
              "      <td>0.055132</td>\n",
              "    </tr>\n",
              "    <tr>\n",
              "      <th>zip_code</th>\n",
              "      <td>0.025944</td>\n",
              "      <td>-0.047049</td>\n",
              "      <td>-0.078392</td>\n",
              "      <td>-0.005256</td>\n",
              "      <td>-0.016055</td>\n",
              "      <td>-0.026375</td>\n",
              "      <td>-0.012613</td>\n",
              "      <td>-0.045522</td>\n",
              "      <td>0.074959</td>\n",
              "      <td>-0.057967</td>\n",
              "      <td>-0.017734</td>\n",
              "      <td>0.025204</td>\n",
              "      <td>0.053529</td>\n",
              "      <td>-0.009748</td>\n",
              "      <td>0.029803</td>\n",
              "      <td>1.000000</td>\n",
              "      <td>-0.019298</td>\n",
              "    </tr>\n",
              "    <tr>\n",
              "      <th>sale_price</th>\n",
              "      <td>0.211716</td>\n",
              "      <td>0.128100</td>\n",
              "      <td>0.289602</td>\n",
              "      <td>0.404321</td>\n",
              "      <td>0.078021</td>\n",
              "      <td>0.575454</td>\n",
              "      <td>0.607890</td>\n",
              "      <td>0.419950</td>\n",
              "      <td>-0.164351</td>\n",
              "      <td>0.243273</td>\n",
              "      <td>0.326524</td>\n",
              "      <td>0.113599</td>\n",
              "      <td>0.128348</td>\n",
              "      <td>0.006857</td>\n",
              "      <td>0.055132</td>\n",
              "      <td>-0.019298</td>\n",
              "      <td>1.000000</td>\n",
              "    </tr>\n",
              "  </tbody>\n",
              "</table>\n",
              "</div>"
            ],
            "text/plain": [
              "                     year_built   stories  ...  zip_code  sale_price\n",
              "year_built             1.000000  0.354414  ...  0.025944    0.211716\n",
              "stories                0.354414  1.000000  ... -0.047049    0.128100\n",
              "num_bedrooms           0.359458  0.411001  ... -0.078392    0.289602\n",
              "full_bathrooms         0.510025  0.400741  ... -0.005256    0.404321\n",
              "half_bathrooms         0.029688  0.182537  ... -0.016055    0.078021\n",
              "livable_sqft           0.506543  0.415676  ... -0.026375    0.575454\n",
              "total_sqft             0.447430  0.359168  ... -0.012613    0.607890\n",
              "garage_sqft            0.426578  0.271757  ... -0.045522    0.419950\n",
              "carport_sqft          -0.181743 -0.161268  ...  0.074959   -0.164351\n",
              "has_fireplace          0.125304  0.171922  ... -0.057967    0.243273\n",
              "has_pool              -0.026734 -0.015857  ... -0.017734    0.326524\n",
              "has_central_heating    0.538260  0.158016  ...  0.025204    0.113599\n",
              "has_central_cooling    0.570723  0.187589  ...  0.053529    0.128348\n",
              "house_number           0.006822 -0.009638  ... -0.009748    0.006857\n",
              "unit_number           -0.019773  0.040260  ...  0.029803    0.055132\n",
              "zip_code               0.025944 -0.047049  ...  1.000000   -0.019298\n",
              "sale_price             0.211716  0.128100  ... -0.019298    1.000000\n",
              "\n",
              "[17 rows x 17 columns]"
            ]
          },
          "metadata": {},
          "execution_count": 33
        }
      ]
    },
    {
      "cell_type": "code",
      "metadata": {
        "colab": {
          "base_uri": "https://localhost:8080/",
          "height": 283
        },
        "id": "SnvU0rNXBngK",
        "outputId": "ec5f2155-1c04-40e1-8cf0-043639be8c30"
      },
      "source": [
        "# Kernel (Probability) Density Estimation\n",
        "houseDf['year_built'].plot.kde()"
      ],
      "execution_count": 34,
      "outputs": [
        {
          "output_type": "execute_result",
          "data": {
            "text/plain": [
              "<matplotlib.axes._subplots.AxesSubplot at 0x7f48e370a390>"
            ]
          },
          "metadata": {},
          "execution_count": 34
        },
        {
          "output_type": "display_data",
          "data": {
            "image/png": "[encoded data removed]",
            "text/plain": [
              "<Figure size 432x288 with 1 Axes>"
            ]
          },
          "metadata": {
            "needs_background": "light"
          }
        }
      ]
    },
    {
      "cell_type": "code",
      "metadata": {
        "colab": {
          "base_uri": "https://localhost:8080/",
          "height": 338
        },
        "id": "eyQwSeTrBqf_",
        "outputId": "5b10486e-2c7d-42cc-ec7a-065891c2bc0a"
      },
      "source": [
        "# Note the sharp rise and decline in the years 2007 to 2012.\n",
        "# The housing bubble!\n",
        "houseDf['year_built'].hist(bins=100, figsize=(10,5))"
      ],
      "execution_count": 35,
      "outputs": [
        {
          "output_type": "execute_result",
          "data": {
            "text/plain": [
              "<matplotlib.axes._subplots.AxesSubplot at 0x7f48e366c3d0>"
            ]
          },
          "metadata": {},
          "execution_count": 35
        },
        {
          "output_type": "display_data",
          "data": {
            "image/png": "[encoded data removed]",
            "text/plain": [
              "<Figure size 720x360 with 1 Axes>"
            ]
          },
          "metadata": {
            "needs_background": "light"
          }
        }
      ]
    },
    {
      "cell_type": "code",
      "metadata": {
        "id": "cpv4RyyRCa0O"
      },
      "source": [
        "# fireplaceDf = houseDf['has_fireplace'].replace({False: 0, True: 1})\n",
        "# fireplaceDf.head()"
      ],
      "execution_count": null,
      "outputs": []
    },
    {
      "cell_type": "code",
      "metadata": {
        "id": "rknO0gfDEEWC"
      },
      "source": [
        "airQualityDf = pd.read_csv('./air_quality_no2.csv')"
      ],
      "execution_count": 41,
      "outputs": []
    },
    {
      "cell_type": "code",
      "metadata": {
        "colab": {
          "base_uri": "https://localhost:8080/",
          "height": 206
        },
        "id": "Ty1Gk8rGF8xR",
        "outputId": "734576e4-86d3-4f36-bc0a-a91a1d233df5"
      },
      "source": [
        "airQualityDf.head()"
      ],
      "execution_count": 45,
      "outputs": [
        {
          "output_type": "execute_result",
          "data": {
            "text/html": [
              "<div>\n",
              "<style scoped>\n",
              "    .dataframe tbody tr th:only-of-type {\n",
              "        vertical-align: middle;\n",
              "    }\n",
              "\n",
              "    .dataframe tbody tr th {\n",
              "        vertical-align: top;\n",
              "    }\n",
              "\n",
              "    .dataframe thead th {\n",
              "        text-align: right;\n",
              "    }\n",
              "</style>\n",
              "<table border=\"1\" class=\"dataframe\">\n",
              "  <thead>\n",
              "    <tr style=\"text-align: right;\">\n",
              "      <th></th>\n",
              "      <th>datetime</th>\n",
              "      <th>station_antwerp</th>\n",
              "      <th>station_paris</th>\n",
              "      <th>station_london</th>\n",
              "    </tr>\n",
              "  </thead>\n",
              "  <tbody>\n",
              "    <tr>\n",
              "      <th>0</th>\n",
              "      <td>2019-05-07 02:00:00</td>\n",
              "      <td>NaN</td>\n",
              "      <td>NaN</td>\n",
              "      <td>23.0</td>\n",
              "    </tr>\n",
              "    <tr>\n",
              "      <th>1</th>\n",
              "      <td>2019-05-07 03:00:00</td>\n",
              "      <td>50.5</td>\n",
              "      <td>25.0</td>\n",
              "      <td>19.0</td>\n",
              "    </tr>\n",
              "    <tr>\n",
              "      <th>2</th>\n",
              "      <td>2019-05-07 04:00:00</td>\n",
              "      <td>45.0</td>\n",
              "      <td>27.7</td>\n",
              "      <td>19.0</td>\n",
              "    </tr>\n",
              "    <tr>\n",
              "      <th>3</th>\n",
              "      <td>2019-05-07 05:00:00</td>\n",
              "      <td>NaN</td>\n",
              "      <td>50.4</td>\n",
              "      <td>16.0</td>\n",
              "    </tr>\n",
              "    <tr>\n",
              "      <th>4</th>\n",
              "      <td>2019-05-07 06:00:00</td>\n",
              "      <td>NaN</td>\n",
              "      <td>61.9</td>\n",
              "      <td>NaN</td>\n",
              "    </tr>\n",
              "  </tbody>\n",
              "</table>\n",
              "</div>"
            ],
            "text/plain": [
              "              datetime  station_antwerp  station_paris  station_london\n",
              "0  2019-05-07 02:00:00              NaN            NaN            23.0\n",
              "1  2019-05-07 03:00:00             50.5           25.0            19.0\n",
              "2  2019-05-07 04:00:00             45.0           27.7            19.0\n",
              "3  2019-05-07 05:00:00              NaN           50.4            16.0\n",
              "4  2019-05-07 06:00:00              NaN           61.9             NaN"
            ]
          },
          "metadata": {},
          "execution_count": 45
        }
      ]
    },
    {
      "cell_type": "code",
      "metadata": {
        "colab": {
          "base_uri": "https://localhost:8080/",
          "height": 300
        },
        "id": "3bGeavF9GC76",
        "outputId": "a7b3e53d-99e5-40ca-9d68-56d70d9b5f5b"
      },
      "source": [
        "airQualityDf.describe()"
      ],
      "execution_count": 46,
      "outputs": [
        {
          "output_type": "execute_result",
          "data": {
            "text/html": [
              "<div>\n",
              "<style scoped>\n",
              "    .dataframe tbody tr th:only-of-type {\n",
              "        vertical-align: middle;\n",
              "    }\n",
              "\n",
              "    .dataframe tbody tr th {\n",
              "        vertical-align: top;\n",
              "    }\n",
              "\n",
              "    .dataframe thead th {\n",
              "        text-align: right;\n",
              "    }\n",
              "</style>\n",
              "<table border=\"1\" class=\"dataframe\">\n",
              "  <thead>\n",
              "    <tr style=\"text-align: right;\">\n",
              "      <th></th>\n",
              "      <th>station_antwerp</th>\n",
              "      <th>station_paris</th>\n",
              "      <th>station_london</th>\n",
              "    </tr>\n",
              "  </thead>\n",
              "  <tbody>\n",
              "    <tr>\n",
              "      <th>count</th>\n",
              "      <td>95.000000</td>\n",
              "      <td>1004.000000</td>\n",
              "      <td>969.000000</td>\n",
              "    </tr>\n",
              "    <tr>\n",
              "      <th>mean</th>\n",
              "      <td>25.778947</td>\n",
              "      <td>27.740538</td>\n",
              "      <td>24.777090</td>\n",
              "    </tr>\n",
              "    <tr>\n",
              "      <th>std</th>\n",
              "      <td>12.682019</td>\n",
              "      <td>15.285746</td>\n",
              "      <td>11.214377</td>\n",
              "    </tr>\n",
              "    <tr>\n",
              "      <th>min</th>\n",
              "      <td>7.500000</td>\n",
              "      <td>0.000000</td>\n",
              "      <td>0.000000</td>\n",
              "    </tr>\n",
              "    <tr>\n",
              "      <th>25%</th>\n",
              "      <td>16.750000</td>\n",
              "      <td>16.500000</td>\n",
              "      <td>19.000000</td>\n",
              "    </tr>\n",
              "    <tr>\n",
              "      <th>50%</th>\n",
              "      <td>23.000000</td>\n",
              "      <td>24.150000</td>\n",
              "      <td>25.000000</td>\n",
              "    </tr>\n",
              "    <tr>\n",
              "      <th>75%</th>\n",
              "      <td>34.500000</td>\n",
              "      <td>35.925000</td>\n",
              "      <td>31.000000</td>\n",
              "    </tr>\n",
              "    <tr>\n",
              "      <th>max</th>\n",
              "      <td>74.500000</td>\n",
              "      <td>97.000000</td>\n",
              "      <td>97.000000</td>\n",
              "    </tr>\n",
              "  </tbody>\n",
              "</table>\n",
              "</div>"
            ],
            "text/plain": [
              "       station_antwerp  station_paris  station_london\n",
              "count        95.000000    1004.000000      969.000000\n",
              "mean         25.778947      27.740538       24.777090\n",
              "std          12.682019      15.285746       11.214377\n",
              "min           7.500000       0.000000        0.000000\n",
              "25%          16.750000      16.500000       19.000000\n",
              "50%          23.000000      24.150000       25.000000\n",
              "75%          34.500000      35.925000       31.000000\n",
              "max          74.500000      97.000000       97.000000"
            ]
          },
          "metadata": {},
          "execution_count": 46
        }
      ]
    },
    {
      "cell_type": "code",
      "metadata": {
        "colab": {
          "base_uri": "https://localhost:8080/",
          "height": 396
        },
        "id": "RYmwGeBlE-Sr",
        "outputId": "328daf14-aed5-49bc-f5d3-2a03350d4729"
      },
      "source": [
        "airQualityDf.plot.box(figsize=(5,5))"
      ],
      "execution_count": 44,
      "outputs": [
        {
          "output_type": "stream",
          "name": "stderr",
          "text": [
            "/usr/local/lib/python3.7/dist-packages/numpy/core/_asarray.py:83: VisibleDeprecationWarning: Creating an ndarray from ragged nested sequences (which is a list-or-tuple of lists-or-tuples-or ndarrays with different lengths or shapes) is deprecated. If you meant to do this, you must specify 'dtype=object' when creating the ndarray\n",
            "  return array(a, dtype, copy=False, order=order)\n"
          ]
        },
        {
          "output_type": "execute_result",
          "data": {
            "text/plain": [
              "<matplotlib.axes._subplots.AxesSubplot at 0x7f48e30ea750>"
            ]
          },
          "metadata": {},
          "execution_count": 44
        },
        {
          "output_type": "display_data",
          "data": {
            "image/png": "[encoded data removed]",
            "text/plain": [
              "<Figure size 360x360 with 1 Axes>"
            ]
          },
          "metadata": {
            "needs_background": "light"
          }
        }
      ]
    },
    {
      "cell_type": "code",
      "metadata": {
        "colab": {
          "base_uri": "https://localhost:8080/"
        },
        "id": "oOVgN7YzG9ev",
        "outputId": "694ed895-c627-4b68-e8dc-e330fe860ae2"
      },
      "source": [
        "airQualityDf['station_antwerp'].describe()"
      ],
      "execution_count": 52,
      "outputs": [
        {
          "output_type": "execute_result",
          "data": {
            "text/plain": [
              "count    95.000000\n",
              "mean     25.778947\n",
              "std      12.682019\n",
              "min       7.500000\n",
              "25%      16.750000\n",
              "50%      23.000000\n",
              "75%      34.500000\n",
              "max      74.500000\n",
              "Name: station_antwerp, dtype: float64"
            ]
          },
          "metadata": {},
          "execution_count": 52
        }
      ]
    },
    {
      "cell_type": "code",
      "metadata": {
        "colab": {
          "base_uri": "https://localhost:8080/",
          "height": 283
        },
        "id": "tseht6ILFypS",
        "outputId": "bc5d7d04-cb71-4553-fd98-fd2686c789b8"
      },
      "source": [
        "airQualityDf['station_antwerp'].hist(bins=50)"
      ],
      "execution_count": 49,
      "outputs": [
        {
          "output_type": "execute_result",
          "data": {
            "text/plain": [
              "<matplotlib.axes._subplots.AxesSubplot at 0x7f48e2f29490>"
            ]
          },
          "metadata": {},
          "execution_count": 49
        },
        {
          "output_type": "display_data",
          "data": {
            "image/png": "[encoded data removed]",
            "text/plain": [
              "<Figure size 432x288 with 1 Axes>"
            ]
          },
          "metadata": {
            "needs_background": "light"
          }
        }
      ]
    },
    {
      "cell_type": "code",
      "metadata": {
        "colab": {
          "base_uri": "https://localhost:8080/",
          "height": 283
        },
        "id": "fa-7yx7gHHFc",
        "outputId": "2a9ccec1-045e-402f-c440-c868229cf715"
      },
      "source": [
        "airQualityDf['station_paris'].hist(bins=50)"
      ],
      "execution_count": 53,
      "outputs": [
        {
          "output_type": "execute_result",
          "data": {
            "text/plain": [
              "<matplotlib.axes._subplots.AxesSubplot at 0x7f48e33c20d0>"
            ]
          },
          "metadata": {},
          "execution_count": 53
        },
        {
          "output_type": "display_data",
          "data": {
            "image/png": "[encoded data removed]",
            "text/plain": [
              "<Figure size 432x288 with 1 Axes>"
            ]
          },
          "metadata": {
            "needs_background": "light"
          }
        }
      ]
    },
    {
      "cell_type": "code",
      "metadata": {
        "id": "T8vtpCGrGq_s"
      },
      "source": [
        ""
      ],
      "execution_count": null,
      "outputs": []
    }
  ]
}