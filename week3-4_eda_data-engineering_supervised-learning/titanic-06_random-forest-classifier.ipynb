{
 "cells": [
  {
   "cell_type": "markdown",
   "metadata": {},
   "source": [
    "# Random Forest Classifier for Titanic"
   ]
  },
  {
   "cell_type": "markdown",
   "metadata": {},
   "source": [
    "* <b>PassengerID</b>: random ID assigned to passenger\n",
    "* <b>Pclass</b>: Ticket class of passenger (i.e, 1st class, 2nd class, and 3rd class)\n",
    "* <b>Name</b>: Name of the passenger\n",
    "* <b>Sex</b>: Male or Female\n",
    "* <b>Age</b>: Age of passenger\n",
    "* <b>SibSp</b>: Number of siblings accompanying passenger\n",
    "* <b>Parch</b>: Number of parents and children accompanying passenger\n",
    "* <b>Ticket</b>: Ticket number of passenger\n",
    "* <b>Fare</b>: Fare paid for ticket\n",
    "* <b>Cabin</b>: Cabin number of passenger\n",
    "* <b>Embarked</b>: Port from which passenger embarked\n",
    "* <b>Survived</b>: 0 and 1 for died and survived, respectively"
   ]
  },
  {
   "cell_type": "markdown",
   "metadata": {},
   "source": [
    "### Importing the Data and Libraries"
   ]
  },
  {
   "cell_type": "code",
   "execution_count": 28,
   "metadata": {},
   "outputs": [],
   "source": [
    "# Import the libraries\n",
    "import pandas as pd\n",
    "\n",
    "# Import the ml model\n",
    "from sklearn.ensemble import RandomForestClassifier\n",
    "\n",
    "# Import GridSearchCV for finding the model with the best parameters\n",
    "from sklearn.model_selection import GridSearchCV\n",
    "\n",
    "# Import functions for measuring metrics of the ml model\n",
    "from sklearn.metrics import accuracy_score, precision_score, recall_score"
   ]
  },
  {
   "cell_type": "code",
   "execution_count": 29,
   "metadata": {},
   "outputs": [],
   "source": [
    "# Import the Train, Validation, and Test data sets\n",
    "trainF = pd.read_csv('./train_features.csv')\n",
    "trainL = pd.read_csv('./train_labels.csv')\n",
    "\n",
    "valF = pd.read_csv('./validation_features.csv')\n",
    "valL = pd.read_csv('./validation_labels.csv')\n",
    "\n",
    "testF = pd.read_csv('./test_features.csv')\n",
    "testL = pd.read_csv('./test_labels.csv')\n"
   ]
  },
  {
   "cell_type": "markdown",
   "metadata": {},
   "source": [
    "### Configuring the Hyperparameters"
   ]
  },
  {
   "cell_type": "code",
   "execution_count": 30,
   "metadata": {},
   "outputs": [],
   "source": [
    "def printResults(gridSearchResults):\n",
    "\n",
    "    print( 'Best ML Hyperparameters: {}\\n'.format(gridSearchResults.best_params_) )\n",
    "\n",
    "    means = gridSearchResults.cv_results_['mean_test_score']\n",
    "    stnDvs = gridSearchResults.cv_results_['std_test_score']\n",
    "\n",
    "    for mean, stnDvs, parameters in zip( means, stnDvs, gridSearchResults.cv_results_['params'] ):\n",
    "        print(\n",
    "            '{} (+/-{}) for {}'.format(\n",
    "                round(mean, 3),\n",
    "                round(stnDvs*2, 3),\n",
    "                parameters\n",
    "            ) \n",
    "        )"
   ]
  },
  {
   "cell_type": "code",
   "execution_count": 31,
   "metadata": {},
   "outputs": [
    {
     "name": "stdout",
     "output_type": "stream",
     "text": [
      "Best ML Hyperparameters: {'max_depth': 20, 'n_estimators': 5}\n",
      "\n",
      "0.769 (+/-0.081) for {'max_depth': 2, 'n_estimators': 5}\n",
      "0.788 (+/-0.075) for {'max_depth': 2, 'n_estimators': 50}\n",
      "0.795 (+/-0.047) for {'max_depth': 2, 'n_estimators': 100}\n",
      "0.81 (+/-0.06) for {'max_depth': 10, 'n_estimators': 5}\n",
      "0.816 (+/-0.025) for {'max_depth': 10, 'n_estimators': 50}\n",
      "0.827 (+/-0.041) for {'max_depth': 10, 'n_estimators': 100}\n",
      "0.833 (+/-0.043) for {'max_depth': 20, 'n_estimators': 5}\n",
      "0.816 (+/-0.026) for {'max_depth': 20, 'n_estimators': 50}\n",
      "0.816 (+/-0.025) for {'max_depth': 20, 'n_estimators': 100}\n",
      "0.79 (+/-0.03) for {'max_depth': None, 'n_estimators': 5}\n",
      "0.812 (+/-0.038) for {'max_depth': None, 'n_estimators': 50}\n",
      "0.81 (+/-0.037) for {'max_depth': None, 'n_estimators': 100}\n"
     ]
    }
   ],
   "source": [
    "# Instantiate the model and set the hyperparameters \n",
    "rfModel = RandomForestClassifier()\n",
    "\n",
    "hyperparameters = {\n",
    "    'n_estimators': [5, 50, 100],\n",
    "    'max_depth': [2, 10, 20, None]\n",
    "}\n",
    "\n",
    "# GridSearchCV will search and rank the models according their parameters\n",
    "# Note:\n",
    "# sklearn refers to 'hyperparameters' as 'parameters'\n",
    "gridSearch = GridSearchCV( rfModel, hyperparameters, cv=5 )\n",
    "\n",
    "# .fit() will have the model, rfModel, learn the parameters of the features\n",
    "gridSearch.fit( trainF, trainL.values.ravel() )\n",
    "\n",
    "printResults( gridSearch )"
   ]
  },
  {
   "cell_type": "markdown",
   "metadata": {},
   "source": [
    "### Comparison of Top 3 Models"
   ]
  },
  {
   "cell_type": "code",
   "execution_count": 32,
   "metadata": {},
   "outputs": [],
   "source": [
    "# 0.826 (+/-0.028) for {'max_depth': None, 'n_estimators': 50}\n",
    "# 0.825 (+/-0.04) for {'max_depth': 10, 'n_estimators': 5}\n",
    "# 0.825 (+/-0.056) for {'max_depth': 10, 'n_estimators': 100}"
   ]
  },
  {
   "cell_type": "code",
   "execution_count": 33,
   "metadata": {},
   "outputs": [
    {
     "data": {
      "text/plain": [
       "RandomForestClassifier(max_depth=10)"
      ]
     },
     "execution_count": 33,
     "metadata": {},
     "output_type": "execute_result"
    }
   ],
   "source": [
    "rfModel1 = RandomForestClassifier(n_estimators=50, max_depth=None)\n",
    "rfModel1.fit( trainF, trainL.values.ravel() )\n",
    "\n",
    "rfModel2 = RandomForestClassifier(n_estimators=5, max_depth=10)\n",
    "rfModel2.fit( trainF, trainL.values.ravel() )\n",
    "\n",
    "rfModel3 = RandomForestClassifier(n_estimators=100, max_depth=10)\n",
    "rfModel3.fit( trainF, trainL.values.ravel() )"
   ]
  },
  {
   "cell_type": "code",
   "execution_count": 34,
   "metadata": {},
   "outputs": [
    {
     "name": "stdout",
     "output_type": "stream",
     "text": [
      "Max depth: None and Estimators: 50\n",
      "Accuracy: 0.753, Precision: 0.71, Recall: 0.671\n",
      "-------------------------------------------------\n",
      "Max depth: 10 and Estimators: 5\n",
      "Accuracy: 0.781, Precision: 0.766, Recall: 0.671\n",
      "-------------------------------------------------\n",
      "Max depth: 10 and Estimators: 100\n",
      "Accuracy: 0.77, Precision: 0.742, Recall: 0.671\n",
      "-------------------------------------------------\n"
     ]
    }
   ],
   "source": [
    "# Iterate over the top 3 models and have each predict the label.\n",
    "# Then, compare the metrics for each model to find best of 3.\n",
    "\n",
    "for rfML in [rfModel1, rfModel2, rfModel3]:\n",
    "\n",
    "    predictedLabels = rfML.predict(valF)\n",
    "\n",
    "    # Find the metrics for the model: (a) accuracy, (b) precision, and (c) recall\n",
    "    accuracy = round(accuracy_score(valL, predictedLabels), 3)\n",
    "    precision = round(precision_score(valL, predictedLabels), 3)\n",
    "    recall = round(recall_score(valL, predictedLabels), 3)\n",
    "\n",
    "    # Print the metrics for each model\n",
    "    print(\n",
    "        'Max depth: {} and Estimators: {}'.format(rfML.max_depth, rfML.n_estimators)\n",
    "    )\n",
    "    print(\n",
    "        'Accuracy: {}, Precision: {}, Recall: {}'.format( accuracy, precision, recall )\n",
    "    )\n",
    "    print('-------------------------------------------------')"
   ]
  },
  {
   "cell_type": "code",
   "execution_count": 35,
   "metadata": {},
   "outputs": [
    {
     "name": "stdout",
     "output_type": "stream",
     "text": [
      "Max depth: 10 and Estimators: 100\n",
      "Accuracy: 0.837, Precision: 0.812, Recall: 0.754\n",
      "-------------------------------------------------\n"
     ]
    }
   ],
   "source": [
    "# Choose the best model and apply to it the test dataset\n",
    "predictedLabels = rfModel3.predict( testF )\n",
    "\n",
    "# Find the metrics for the model: (a) accuracy, (b) precision, and (c) recall\n",
    "accuracy = round(accuracy_score(testL, predictedLabels), 3)\n",
    "precision = round(precision_score(testL, predictedLabels), 3)\n",
    "recall = round(recall_score(testL, predictedLabels), 3)\n",
    "\n",
    "# Print the metrics for each model\n",
    "print(\n",
    "    'Max depth: {} and Estimators: {}'.format(rfML.max_depth, rfML.n_estimators)\n",
    ")\n",
    "print(\n",
    "    'Accuracy: {}, Precision: {}, Recall: {}'.format( accuracy, precision, recall )\n",
    ")\n",
    "print('-------------------------------------------------')"
   ]
  },
  {
   "cell_type": "code",
   "execution_count": 36,
   "metadata": {},
   "outputs": [
    {
     "data": {
      "text/html": [
       "<div>\n",
       "<style scoped>\n",
       "    .dataframe tbody tr th:only-of-type {\n",
       "        vertical-align: middle;\n",
       "    }\n",
       "\n",
       "    .dataframe tbody tr th {\n",
       "        vertical-align: top;\n",
       "    }\n",
       "\n",
       "    .dataframe thead th {\n",
       "        text-align: right;\n",
       "    }\n",
       "</style>\n",
       "<table border=\"1\" class=\"dataframe\">\n",
       "  <thead>\n",
       "    <tr style=\"text-align: right;\">\n",
       "      <th></th>\n",
       "      <th>Pclass</th>\n",
       "      <th>Name</th>\n",
       "      <th>Sex</th>\n",
       "      <th>Age</th>\n",
       "      <th>SibSp</th>\n",
       "      <th>Parch</th>\n",
       "      <th>Fare</th>\n",
       "      <th>cabin_ind</th>\n",
       "      <th>Embarked</th>\n",
       "    </tr>\n",
       "  </thead>\n",
       "  <tbody>\n",
       "    <tr>\n",
       "      <th>0</th>\n",
       "      <td>1</td>\n",
       "      <td>Rose Bukater</td>\n",
       "      <td>1</td>\n",
       "      <td>17</td>\n",
       "      <td>0</td>\n",
       "      <td>2</td>\n",
       "      <td>50</td>\n",
       "      <td>1</td>\n",
       "      <td>2</td>\n",
       "    </tr>\n",
       "    <tr>\n",
       "      <th>1</th>\n",
       "      <td>3</td>\n",
       "      <td>Jack Dawson</td>\n",
       "      <td>0</td>\n",
       "      <td>20</td>\n",
       "      <td>0</td>\n",
       "      <td>0</td>\n",
       "      <td>0</td>\n",
       "      <td>0</td>\n",
       "      <td>2</td>\n",
       "    </tr>\n",
       "  </tbody>\n",
       "</table>\n",
       "</div>"
      ],
      "text/plain": [
       "   Pclass          Name  Sex  Age  SibSp  Parch  Fare  cabin_ind  Embarked\n",
       "0       1  Rose Bukater    1   17      0      2    50          1         2\n",
       "1       3   Jack Dawson    0   20      0      0     0          0         2"
      ]
     },
     "execution_count": 36,
     "metadata": {},
     "output_type": "execute_result"
    }
   ],
   "source": [
    "newDataFeatures = {\n",
    "    'Pclass': [1,3],\n",
    "    'Name': ['Rose Bukater','Jack Dawson'],\n",
    "    'Sex': [1,0],\n",
    "    'Age': [17, 20],\n",
    "    'SibSp': [0, 0],\n",
    "    'Parch': [2, 0],\n",
    "    'Fare': [50, 0],\n",
    "    'cabin_ind': [1, 0],\n",
    "    'Embarked': [2,2]\n",
    "}\n",
    "\n",
    "newDataFeaturesDf = pd.DataFrame(data=newDataFeatures)\n",
    "newDataFeaturesDf.head()"
   ]
  },
  {
   "cell_type": "markdown",
   "metadata": {},
   "source": [
    "### Predict 'Survived' for Rose and Jack"
   ]
  },
  {
   "cell_type": "code",
   "execution_count": 37,
   "metadata": {},
   "outputs": [],
   "source": [
    "# Predict 'Survived' for Rose and Jack\n",
    "# Remove 'Name' because it was for reference only\n",
    "newDataFeaturesDf.drop('Name', axis=1, inplace=True)\n",
    "\n",
    "predictedLabels = rfModel3.predict( newDataFeaturesDf )\n",
    "\n",
    "# Append the label (Survived) to the dataframe\n",
    "newDataFeaturesDf['Survived'] = predictedLabels"
   ]
  },
  {
   "cell_type": "code",
   "execution_count": 38,
   "metadata": {},
   "outputs": [
    {
     "data": {
      "text/html": [
       "<div>\n",
       "<style scoped>\n",
       "    .dataframe tbody tr th:only-of-type {\n",
       "        vertical-align: middle;\n",
       "    }\n",
       "\n",
       "    .dataframe tbody tr th {\n",
       "        vertical-align: top;\n",
       "    }\n",
       "\n",
       "    .dataframe thead th {\n",
       "        text-align: right;\n",
       "    }\n",
       "</style>\n",
       "<table border=\"1\" class=\"dataframe\">\n",
       "  <thead>\n",
       "    <tr style=\"text-align: right;\">\n",
       "      <th></th>\n",
       "      <th>Pclass</th>\n",
       "      <th>Sex</th>\n",
       "      <th>Age</th>\n",
       "      <th>SibSp</th>\n",
       "      <th>Parch</th>\n",
       "      <th>Fare</th>\n",
       "      <th>cabin_ind</th>\n",
       "      <th>Embarked</th>\n",
       "      <th>Survived</th>\n",
       "    </tr>\n",
       "  </thead>\n",
       "  <tbody>\n",
       "    <tr>\n",
       "      <th>0</th>\n",
       "      <td>1</td>\n",
       "      <td>1</td>\n",
       "      <td>17</td>\n",
       "      <td>0</td>\n",
       "      <td>2</td>\n",
       "      <td>50</td>\n",
       "      <td>1</td>\n",
       "      <td>2</td>\n",
       "      <td>1</td>\n",
       "    </tr>\n",
       "    <tr>\n",
       "      <th>1</th>\n",
       "      <td>3</td>\n",
       "      <td>0</td>\n",
       "      <td>20</td>\n",
       "      <td>0</td>\n",
       "      <td>0</td>\n",
       "      <td>0</td>\n",
       "      <td>0</td>\n",
       "      <td>2</td>\n",
       "      <td>0</td>\n",
       "    </tr>\n",
       "  </tbody>\n",
       "</table>\n",
       "</div>"
      ],
      "text/plain": [
       "   Pclass  Sex  Age  SibSp  Parch  Fare  cabin_ind  Embarked  Survived\n",
       "0       1    1   17      0      2    50          1         2         1\n",
       "1       3    0   20      0      0     0          0         2         0"
      ]
     },
     "execution_count": 38,
     "metadata": {},
     "output_type": "execute_result"
    }
   ],
   "source": [
    "newDataFeaturesDf.head()"
   ]
  }
 ],
 "metadata": {
  "interpreter": {
   "hash": "aee8b7b246df8f9039afb4144a1f6fd8d2ca17a180786b69acc140d282b71a49"
  },
  "kernelspec": {
   "display_name": "Python 3.9.4 64-bit",
   "name": "python3"
  },
  "language_info": {
   "codemirror_mode": {
    "name": "ipython",
    "version": 3
   },
   "file_extension": ".py",
   "mimetype": "text/x-python",
   "name": "python",
   "nbconvert_exporter": "python",
   "pygments_lexer": "ipython3",
   "version": "3.9.4"
  },
  "orig_nbformat": 4
 },
 "nbformat": 4,
 "nbformat_minor": 2
}
