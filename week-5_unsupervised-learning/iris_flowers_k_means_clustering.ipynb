{
  "cells": [
    {
      "cell_type": "markdown",
      "metadata": {
        "id": "ckcfyKPHVa4V"
      },
      "source": [
        "# K-Means Clustering for Iris Flowers "
      ]
    },
    {
      "cell_type": "markdown",
      "metadata": {
        "id": "e1OtcfgnV6Gs"
      },
      "source": [
        "\n",
        "\n",
        "*   sepal length (cm)\n",
        "*   sepal width (cm)\n",
        "*   petal length (cm)\n",
        "*   petal width (cm)\n",
        "\n",
        "\n"
      ]
    },
    {
      "cell_type": "markdown",
      "metadata": {
        "id": "4yqBM09vWPbA"
      },
      "source": [
        "### Import Data and Libraries"
      ]
    },
    {
      "cell_type": "code",
      "execution_count": 24,
      "metadata": {
        "id": "lGU6qhNtUQnF"
      },
      "outputs": [],
      "source": [
        "# Import libraries\n",
        "import pandas as pd\n",
        "import numpy as np\n",
        "\n",
        "# Import the function from sklearn to download the sample iris dataset\n",
        "from sklearn.datasets import load_iris\n",
        "\n",
        "# Import the Unsupervised Learning ML model\n",
        "from sklearn.cluster import KMeans\n",
        "\n",
        "# Import function for splitting data to Training, Validation, and Test\n",
        "from sklearn.model_selection import train_test_split\n",
        "\n",
        "# Import class for scaling the observations from 0 to 1\n",
        "from sklearn.preprocessing import StandardScaler\n",
        "\n",
        "\n",
        "# Import matplotlib for visualization\n",
        "import matplotlib.pyplot as plt\n",
        "%matplotlib inline"
      ]
    },
    {
      "cell_type": "code",
      "execution_count": 25,
      "metadata": {
        "colab": {
          "base_uri": "https://localhost:8080/",
          "height": 206
        },
        "id": "Im7LKZRhZSnC",
        "outputId": "04597665-4ce2-4da9-e788-64d9385bf80e"
      },
      "outputs": [
        {
          "data": {
            "text/html": [
              "<div>\n",
              "<style scoped>\n",
              "    .dataframe tbody tr th:only-of-type {\n",
              "        vertical-align: middle;\n",
              "    }\n",
              "\n",
              "    .dataframe tbody tr th {\n",
              "        vertical-align: top;\n",
              "    }\n",
              "\n",
              "    .dataframe thead th {\n",
              "        text-align: right;\n",
              "    }\n",
              "</style>\n",
              "<table border=\"1\" class=\"dataframe\">\n",
              "  <thead>\n",
              "    <tr style=\"text-align: right;\">\n",
              "      <th></th>\n",
              "      <th>sepal length (cm)</th>\n",
              "      <th>sepal width (cm)</th>\n",
              "      <th>petal length (cm)</th>\n",
              "      <th>petal width (cm)</th>\n",
              "    </tr>\n",
              "  </thead>\n",
              "  <tbody>\n",
              "    <tr>\n",
              "      <th>0</th>\n",
              "      <td>5.1</td>\n",
              "      <td>3.5</td>\n",
              "      <td>1.4</td>\n",
              "      <td>0.2</td>\n",
              "    </tr>\n",
              "    <tr>\n",
              "      <th>1</th>\n",
              "      <td>4.9</td>\n",
              "      <td>3.0</td>\n",
              "      <td>1.4</td>\n",
              "      <td>0.2</td>\n",
              "    </tr>\n",
              "    <tr>\n",
              "      <th>2</th>\n",
              "      <td>4.7</td>\n",
              "      <td>3.2</td>\n",
              "      <td>1.3</td>\n",
              "      <td>0.2</td>\n",
              "    </tr>\n",
              "    <tr>\n",
              "      <th>3</th>\n",
              "      <td>4.6</td>\n",
              "      <td>3.1</td>\n",
              "      <td>1.5</td>\n",
              "      <td>0.2</td>\n",
              "    </tr>\n",
              "    <tr>\n",
              "      <th>4</th>\n",
              "      <td>5.0</td>\n",
              "      <td>3.6</td>\n",
              "      <td>1.4</td>\n",
              "      <td>0.2</td>\n",
              "    </tr>\n",
              "  </tbody>\n",
              "</table>\n",
              "</div>"
            ],
            "text/plain": [
              "   sepal length (cm)  sepal width (cm)  petal length (cm)  petal width (cm)\n",
              "0                5.1               3.5                1.4               0.2\n",
              "1                4.9               3.0                1.4               0.2\n",
              "2                4.7               3.2                1.3               0.2\n",
              "3                4.6               3.1                1.5               0.2\n",
              "4                5.0               3.6                1.4               0.2"
            ]
          },
          "execution_count": 25,
          "metadata": {},
          "output_type": "execute_result"
        }
      ],
      "source": [
        "irisData = load_iris()\n",
        "irisDf = pd.DataFrame( irisData.data, columns=irisData.feature_names )\n",
        "irisDf.head()"
      ]
    },
    {
      "cell_type": "code",
      "execution_count": 26,
      "metadata": {
        "colab": {
          "base_uri": "https://localhost:8080/",
          "height": 363
        },
        "id": "UGgOSN7Ra6Te",
        "outputId": "90f682e6-5472-41be-d969-b245eb1e582a"
      },
      "outputs": [
        {
          "data": {
            "text/html": [
              "<div>\n",
              "<style scoped>\n",
              "    .dataframe tbody tr th:only-of-type {\n",
              "        vertical-align: middle;\n",
              "    }\n",
              "\n",
              "    .dataframe tbody tr th {\n",
              "        vertical-align: top;\n",
              "    }\n",
              "\n",
              "    .dataframe thead th {\n",
              "        text-align: right;\n",
              "    }\n",
              "</style>\n",
              "<table border=\"1\" class=\"dataframe\">\n",
              "  <thead>\n",
              "    <tr style=\"text-align: right;\">\n",
              "      <th></th>\n",
              "      <th>petal length (cm)</th>\n",
              "      <th>petal width (cm)</th>\n",
              "    </tr>\n",
              "  </thead>\n",
              "  <tbody>\n",
              "    <tr>\n",
              "      <th>0</th>\n",
              "      <td>1.4</td>\n",
              "      <td>0.2</td>\n",
              "    </tr>\n",
              "    <tr>\n",
              "      <th>1</th>\n",
              "      <td>1.4</td>\n",
              "      <td>0.2</td>\n",
              "    </tr>\n",
              "    <tr>\n",
              "      <th>2</th>\n",
              "      <td>1.3</td>\n",
              "      <td>0.2</td>\n",
              "    </tr>\n",
              "    <tr>\n",
              "      <th>3</th>\n",
              "      <td>1.5</td>\n",
              "      <td>0.2</td>\n",
              "    </tr>\n",
              "    <tr>\n",
              "      <th>4</th>\n",
              "      <td>1.4</td>\n",
              "      <td>0.2</td>\n",
              "    </tr>\n",
              "    <tr>\n",
              "      <th>5</th>\n",
              "      <td>1.7</td>\n",
              "      <td>0.4</td>\n",
              "    </tr>\n",
              "    <tr>\n",
              "      <th>6</th>\n",
              "      <td>1.4</td>\n",
              "      <td>0.3</td>\n",
              "    </tr>\n",
              "    <tr>\n",
              "      <th>7</th>\n",
              "      <td>1.5</td>\n",
              "      <td>0.2</td>\n",
              "    </tr>\n",
              "    <tr>\n",
              "      <th>8</th>\n",
              "      <td>1.4</td>\n",
              "      <td>0.2</td>\n",
              "    </tr>\n",
              "    <tr>\n",
              "      <th>9</th>\n",
              "      <td>1.5</td>\n",
              "      <td>0.1</td>\n",
              "    </tr>\n",
              "  </tbody>\n",
              "</table>\n",
              "</div>"
            ],
            "text/plain": [
              "   petal length (cm)  petal width (cm)\n",
              "0                1.4               0.2\n",
              "1                1.4               0.2\n",
              "2                1.3               0.2\n",
              "3                1.5               0.2\n",
              "4                1.4               0.2\n",
              "5                1.7               0.4\n",
              "6                1.4               0.3\n",
              "7                1.5               0.2\n",
              "8                1.4               0.2\n",
              "9                1.5               0.1"
            ]
          },
          "execution_count": 26,
          "metadata": {},
          "output_type": "execute_result"
        }
      ],
      "source": [
        "# Only look at petal length and petal width to simplify the example\n",
        "selectedFeatures = ['petal length (cm)', 'petal width (cm)']\n",
        "\n",
        "# The .loc() method from Pandas is used to read data\n",
        "# from any part of the data frame\n",
        "#\n",
        "# .loc(rowStart:rowEnd, columnNames)\n",
        "# .values will extract the elements in the DataFrame (i.e, you'll get an array)\n",
        "features = irisDf.loc[:, selectedFeatures]\n",
        "\n",
        "# Preview first 10 rows of the feat\n",
        "features[0:10]"
      ]
    },
    {
      "cell_type": "markdown",
      "metadata": {
        "id": "HJez0yoke7rO"
      },
      "source": [
        "### Scaling the Features\n",
        "We will scale the features so that mean is 0 and variance 1."
      ]
    },
    {
      "cell_type": "code",
      "execution_count": 27,
      "metadata": {
        "colab": {
          "base_uri": "https://localhost:8080/"
        },
        "id": "s-_2_d08fiUg",
        "outputId": "f4b2b298-5196-461f-8833-97468ba5a275"
      },
      "outputs": [
        {
          "data": {
            "text/plain": [
              "array([[-1.34022653, -1.3154443 ],\n",
              "       [-1.34022653, -1.3154443 ],\n",
              "       [-1.39706395, -1.3154443 ],\n",
              "       [-1.2833891 , -1.3154443 ],\n",
              "       [-1.34022653, -1.3154443 ],\n",
              "       [-1.16971425, -1.05217993],\n",
              "       [-1.34022653, -1.18381211],\n",
              "       [-1.2833891 , -1.3154443 ],\n",
              "       [-1.34022653, -1.3154443 ],\n",
              "       [-1.2833891 , -1.44707648]])"
            ]
          },
          "execution_count": 27,
          "metadata": {},
          "output_type": "execute_result"
        }
      ],
      "source": [
        "# Apply scaling to all of the values in the features\n",
        "features = StandardScaler().fit_transform( features )\n",
        "\n",
        "# Preview the first 10\n",
        "features[0:10]"
      ]
    },
    {
      "cell_type": "markdown",
      "metadata": {
        "id": "lbQu-MmDmExp"
      },
      "source": [
        "### EDA: Visualization"
      ]
    },
    {
      "cell_type": "code",
      "execution_count": 28,
      "metadata": {
        "colab": {
          "base_uri": "https://localhost:8080/",
          "height": 297
        },
        "id": "1Vqea5Szl8lV",
        "outputId": "aff4b762-3440-4015-f3cf-4cfe7b9e7322"
      },
      "outputs": [
        {
          "data": {
            "text/plain": [
              "Text(0, 0.5, 'Petal Width (cm)')"
            ]
          },
          "execution_count": 28,
          "metadata": {},
          "output_type": "execute_result"
        },
        {
          "data": {
            "image/png": "[encoded data removed]",
            "text/plain": [
              "<Figure size 432x288 with 1 Axes>"
            ]
          },
          "metadata": {
            "needs_background": "light"
          },
          "output_type": "display_data"
        }
      ],
      "source": [
        "# Plot the graph and create the DataFrame for plotting\n",
        "plotDf = pd.DataFrame( features, columns=['petal length (cm)','petal width (cm)'] )\n",
        "\n",
        "# Plot with matplotlib\n",
        "plt.scatter( plotDf['petal length (cm)'], plotDf['petal width (cm)'] )\n",
        "\n",
        "# Add labels to the plot\n",
        "plt.xlabel( 'Petal Length (cm)' )\n",
        "plt.ylabel( 'Petal Width (cm)' )"
      ]
    },
    {
      "cell_type": "markdown",
      "metadata": {
        "id": "TXX29Jt4ojJs"
      },
      "source": [
        "### K-Means Clustering for Data"
      ]
    },
    {
      "cell_type": "code",
      "execution_count": 29,
      "metadata": {
        "colab": {
          "base_uri": "https://localhost:8080/"
        },
        "id": "I2-ZWJyGotAq",
        "outputId": "3d74ac7e-f108-46dd-92ff-7a518970d416"
      },
      "outputs": [
        {
          "data": {
            "text/plain": [
              "KMeans(n_clusters=3)"
            ]
          },
          "execution_count": 29,
          "metadata": {},
          "output_type": "execute_result"
        }
      ],
      "source": [
        "# Set the number of centroids for the model\n",
        "kMeansML = KMeans(n_clusters=3)\n",
        "\n",
        "# Use .fit() to learn the parameters of the features\n",
        "kMeansML.fit( features )"
      ]
    },
    {
      "cell_type": "code",
      "execution_count": 30,
      "metadata": {
        "id": "t_58AHNVpc8O"
      },
      "outputs": [],
      "source": [
        "# Get the labels predicted by kMeansML\n",
        "labels = kMeansML.labels_\n",
        "\n",
        "# We want to visualize the clusters so also get the centroids\n",
        "centroids = kMeansML.cluster_centers_"
      ]
    },
    {
      "cell_type": "markdown",
      "metadata": {
        "id": "QUEmoHiBqQnA"
      },
      "source": [
        "### Visualize the results of K-Means Clustering"
      ]
    },
    {
      "cell_type": "code",
      "execution_count": 31,
      "metadata": {
        "colab": {
          "base_uri": "https://localhost:8080/",
          "height": 206
        },
        "id": "S8hG8qZrqOfD",
        "outputId": "79bf18d5-f5b7-41a9-a34c-54e0fb6c5d70"
      },
      "outputs": [
        {
          "data": {
            "text/html": [
              "<div>\n",
              "<style scoped>\n",
              "    .dataframe tbody tr th:only-of-type {\n",
              "        vertical-align: middle;\n",
              "    }\n",
              "\n",
              "    .dataframe tbody tr th {\n",
              "        vertical-align: top;\n",
              "    }\n",
              "\n",
              "    .dataframe thead th {\n",
              "        text-align: right;\n",
              "    }\n",
              "</style>\n",
              "<table border=\"1\" class=\"dataframe\">\n",
              "  <thead>\n",
              "    <tr style=\"text-align: right;\">\n",
              "      <th></th>\n",
              "      <th>petal length (cm)</th>\n",
              "      <th>petal width (cm)</th>\n",
              "    </tr>\n",
              "  </thead>\n",
              "  <tbody>\n",
              "    <tr>\n",
              "      <th>0</th>\n",
              "      <td>-1.340227</td>\n",
              "      <td>-1.315444</td>\n",
              "    </tr>\n",
              "    <tr>\n",
              "      <th>1</th>\n",
              "      <td>-1.340227</td>\n",
              "      <td>-1.315444</td>\n",
              "    </tr>\n",
              "    <tr>\n",
              "      <th>2</th>\n",
              "      <td>-1.397064</td>\n",
              "      <td>-1.315444</td>\n",
              "    </tr>\n",
              "    <tr>\n",
              "      <th>3</th>\n",
              "      <td>-1.283389</td>\n",
              "      <td>-1.315444</td>\n",
              "    </tr>\n",
              "    <tr>\n",
              "      <th>4</th>\n",
              "      <td>-1.340227</td>\n",
              "      <td>-1.315444</td>\n",
              "    </tr>\n",
              "  </tbody>\n",
              "</table>\n",
              "</div>"
            ],
            "text/plain": [
              "   petal length (cm)  petal width (cm)\n",
              "0          -1.340227         -1.315444\n",
              "1          -1.340227         -1.315444\n",
              "2          -1.397064         -1.315444\n",
              "3          -1.283389         -1.315444\n",
              "4          -1.340227         -1.315444"
            ]
          },
          "execution_count": 31,
          "metadata": {},
          "output_type": "execute_result"
        }
      ],
      "source": [
        "# Again create a DataFrame from the scaled features\n",
        "featuresDf = pd.DataFrame( features, columns=['petal length (cm)', 'petal width (cm)'] )\n",
        "featuresDf.head()"
      ]
    },
    {
      "cell_type": "code",
      "execution_count": 32,
      "metadata": {
        "colab": {
          "base_uri": "https://localhost:8080/",
          "height": 283
        },
        "id": "3dglBOUgq5N1",
        "outputId": "9df68962-690a-464f-f09f-58b93c4998bb"
      },
      "outputs": [
        {
          "data": {
            "text/plain": [
              "<matplotlib.collections.PathCollection at 0x12a459160>"
            ]
          },
          "execution_count": 32,
          "metadata": {},
          "output_type": "execute_result"
        },
        {
          "data": {
            "image/png": "[encoded data removed]",
            "text/plain": [
              "<Figure size 432x288 with 1 Axes>"
            ]
          },
          "metadata": {
            "needs_background": "light"
          },
          "output_type": "display_data"
        }
      ],
      "source": [
        "# Create an array of color channels\n",
        "colorMap = np.array( ['r','g','b'] )\n",
        "\n",
        "# Generate the scatterplot for the features (centroids)\n",
        "plt.scatter(\n",
        "  featuresDf['petal length (cm)'],  # x-coordinates\n",
        "  featuresDf['petal width (cm)'],   # y-coordinates\n",
        "  c=colorMap[labels]                # colors for each cluster\n",
        ")\n",
        "\n",
        "# Generate the scatterplot for the labels (centroids)\n",
        "plt.scatter( \n",
        "  centroids[:, 0],                  # x-coordinates\n",
        "  centroids[:, 1],                  # y-coordinates\n",
        "  s=300,                            # size of the markers\n",
        "  marker='x',                       # character to indicate the centrods\n",
        "  c='k'                             # Number of color channels, k = 3\n",
        ")"
      ]
    },
    {
      "cell_type": "code",
      "execution_count": 34,
      "metadata": {},
      "outputs": [
        {
          "data": {
            "text/plain": [
              "Text(0.5, 1.0, 'Elbow curve')"
            ]
          },
          "execution_count": 34,
          "metadata": {},
          "output_type": "execute_result"
        },
        {
          "data": {
            "image/png": "[encoded data removed]",
            "text/plain": [
              "<Figure size 1080x360 with 1 Axes>"
            ]
          },
          "metadata": {
            "needs_background": "light"
          },
          "output_type": "display_data"
        }
      ],
      "source": [
        "\n",
        "\n",
        "X = featuresDf\n",
        "distorsions = []\n",
        "for k in [1,2,3,4,5]:\n",
        "    kmeans = KMeans(n_clusters=k)\n",
        "    kmeans.fit(X)\n",
        "    distorsions.append(kmeans.inertia_)\n",
        "\n",
        "fig = plt.figure(figsize=(15, 5))\n",
        "plt.plot([1,2,3,4,5], distorsions)\n",
        "plt.grid(True)\n",
        "plt.title('Elbow curve')"
      ]
    },
    {
      "cell_type": "code",
      "execution_count": null,
      "metadata": {},
      "outputs": [],
      "source": []
    }
  ],
  "metadata": {
    "colab": {
      "name": "iris-flowers_k-means-clustering.ipynb",
      "provenance": []
    },
    "kernelspec": {
      "display_name": "Python 3",
      "name": "python3"
    },
    "language_info": {
      "codemirror_mode": {
        "name": "ipython",
        "version": 3
      },
      "file_extension": ".py",
      "mimetype": "text/x-python",
      "name": "python",
      "nbconvert_exporter": "python",
      "pygments_lexer": "ipython3",
      "version": "3.9.4"
    }
  },
  "nbformat": 4,
  "nbformat_minor": 0
}
